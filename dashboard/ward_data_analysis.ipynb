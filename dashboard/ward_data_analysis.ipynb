{
 "cells": [
  {
   "cell_type": "code",
   "execution_count": 1,
   "metadata": {},
   "outputs": [],
   "source": [
    "import pickle\n",
    "import matplotlib.pyplot as plt\n",
    "import numpy as np"
   ]
  },
  {
   "cell_type": "code",
   "execution_count": 2,
   "metadata": {},
   "outputs": [],
   "source": [
    "plt.rcParams[\"figure.figsize\"] = (20,8)"
   ]
  },
  {
   "cell_type": "code",
   "execution_count": 3,
   "metadata": {},
   "outputs": [],
   "source": [
    "with open('data/ward_ts.p','rb') as fp:\n",
    "    data = pickle.load(fp)"
   ]
  },
  {
   "cell_type": "code",
   "execution_count": 4,
   "metadata": {},
   "outputs": [
    {
     "data": {
      "text/plain": [
       "dict_keys(['VATVA', 'ISANPUR', 'LAMBHA', 'GHODASAR', 'RAMOL HATHIJAN', 'BHAIPUR HATKESHWAR', 'DANILIMDA', 'MAHAVIRNAGAR', 'KHOKHRA', 'MANINAGAR', 'INDRAPURI', 'SARKHEJ', 'AMRAIWADI', 'VASTRAL', 'BEHERAMPURA', 'VASNA', 'KANKARIA', 'GOMTIPUR', 'VEJALPUR', 'JAMALPUR', 'RAJPUR', 'PALDI', 'ARBUDANAGAR', 'ODHAV', 'KHADIA', 'RAKHIAL', 'BAPUNAGAR', 'VIRATNAGAR', 'RAIKHAD', 'KALUPUR', 'SARASPUR', 'JODHPUR', 'DARIYAPUR', 'SHAHPUR', 'THAKKARBAPANAGAR', 'INDIA COLONY', 'NARODA ROAD', 'NAVRANGPURA', 'ASARWA', 'AMBAWADI', 'BODAKDEV', 'GIRDHARNAGAR', 'KRISHNANAGAR', 'NIKOL', 'MEGHANINAGAR', 'DUDHESWAR', 'MADHUPURA', 'S.P.STADIUM', 'SAIJPUR BOGHA', 'NARODA', 'NARANPURA', 'OLD WADAJ', 'KUBERNAGAR', 'NAVA WADAJ', 'GHATLODIA', 'SARDARNAGAR', 'RANIP', 'THALTEJ', 'CHANDLODIA', 'NOBALNAGAR', 'SABARMATI', 'KALI', 'CHANDKHEDA MOTERA', 'GOTA'])"
      ]
     },
     "execution_count": 4,
     "metadata": {},
     "output_type": "execute_result"
    }
   ],
   "source": [
    "data.keys()"
   ]
  },
  {
   "cell_type": "code",
   "execution_count": 5,
   "metadata": {},
   "outputs": [],
   "source": [
    "def get_vectors(arr):\n",
    "    dates = []\n",
    "    cases = []\n",
    "    for i in arr:\n",
    "        dates.append(str(i[0]))\n",
    "        cases.append(i[1])\n",
    "    return dates, cases"
   ]
  },
  {
   "cell_type": "code",
   "execution_count": 6,
   "metadata": {},
   "outputs": [],
   "source": [
    "dates = get_vectors(data['VATVA'])[0]"
   ]
  },
  {
   "cell_type": "code",
   "execution_count": null,
   "metadata": {},
   "outputs": [
    {
     "data": {
      "text/plain": [
       "[<matplotlib.lines.Line2D at 0x7ff746fafd30>]"
      ]
     },
     "execution_count": 11,
     "metadata": {},
     "output_type": "execute_result"
    }
   ],
   "source": [
    "plt.xticks(rotation=90)\n",
    "plt.plot(dates, get_vectors(data['BEHERAMPURA'])[1])\n",
    "plt.plot(dates, get_vectors(data['DANILIMDA'])[1])"
   ]
  },
  {
   "cell_type": "code",
   "execution_count": null,
   "metadata": {},
   "outputs": [],
   "source": [
    "plt.xticks(rotation=90)\n",
    "arr1 = np.array(get_vectors(data['DANILIMDA'])[1])\n",
    "arr2 = np.array(get_vectors(data['BEHERAMPURA'])[1])\n",
    "plt.plot(dates, np.log(arr2)/np.log(arr1))"
   ]
  },
  {
   "cell_type": "code",
   "execution_count": null,
   "metadata": {},
   "outputs": [],
   "source": []
  }
 ],
 "metadata": {
  "kernelspec": {
   "display_name": "Python 3",
   "language": "python",
   "name": "python3"
  },
  "language_info": {
   "codemirror_mode": {
    "name": "ipython",
    "version": 3
   },
   "file_extension": ".py",
   "mimetype": "text/x-python",
   "name": "python",
   "nbconvert_exporter": "python",
   "pygments_lexer": "ipython3",
   "version": "3.6.9"
  }
 },
 "nbformat": 4,
 "nbformat_minor": 4
}
