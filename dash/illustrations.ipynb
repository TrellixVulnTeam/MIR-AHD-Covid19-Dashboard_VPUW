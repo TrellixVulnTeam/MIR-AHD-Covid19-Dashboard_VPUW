{
 "cells": [
  {
   "cell_type": "code",
   "execution_count": 1,
   "metadata": {},
   "outputs": [],
   "source": [
    "from seirsplus.models import *\n",
    "import networkx\n",
    "import numpy as np\n",
    "import matplotlib.pyplot as plt"
   ]
  },
  {
   "cell_type": "code",
   "execution_count": 2,
   "metadata": {},
   "outputs": [
    {
     "name": "stdout",
     "output_type": "stream",
     "text": [
      "t = 0.59\n",
      "t = 10.15\n",
      "[Checkpoint: Updating parameters]\n",
      "t = 20.01\n",
      "t = 30.09\n",
      "t = 40.01\n",
      "t = 50.06\n",
      "t = 60.00\n",
      "t = 70.01\n",
      "t = 80.00\n",
      "t = 90.01\n",
      "[Checkpoint: Updating parameters]\n",
      "t = 100.01\n",
      "t = 110.00\n",
      "t = 120.00\n",
      "t = 130.01\n",
      "t = 140.00\n",
      "t = 150.01\n",
      "t = 160.02\n",
      "t = 170.00\n",
      "t = 180.10\n"
     ]
    },
    {
     "data": {
      "text/plain": [
       "True"
      ]
     },
     "execution_count": 2,
     "metadata": {},
     "output_type": "execute_result"
    }
   ],
   "source": [
    "# Toy model \n",
    "# Scenario 1: No Testing No Lockdown\n",
    "# The parameters which would change :\n",
    "numNodes = 10000\n",
    "baseGraph    = networkx.barabasi_albert_graph(n=numNodes, m=9)\n",
    "G_normal     = custom_exponential_graph(baseGraph, scale=100)\n",
    "\n",
    "model = SEIRSNetworkModel(G=G_normal, beta=0.185, sigma=1/5, gamma=1/14, mu_I=0.0004, p=0.9,\n",
    "                          beta_D=0.155, sigma_D=1/5, gamma_D=1/14, mu_D=0.0004,\n",
    "                          psi_E=0, psi_I=0, q=0,\n",
    "                          initI=10)\n",
    "\n",
    "checkpoints = {'t': [20, 100]}\n",
    "\n",
    "model.run(T=180, checkpoints=checkpoints)\n",
    "\n",
    "# model.figure_infections()\n",
    "# plt.show()"
   ]
  },
  {
   "cell_type": "code",
   "execution_count": 3,
   "metadata": {},
   "outputs": [
    {
     "data": {
      "text/plain": [
       "[<matplotlib.lines.Line2D at 0x7f83244840b8>]"
      ]
     },
     "execution_count": 3,
     "metadata": {},
     "output_type": "execute_result"
    },
    {
     "data": {
      "image/png": "[encoded data removed]",
      "text/plain": [
       "<Figure size 432x288 with 1 Axes>"
      ]
     },
     "metadata": {
      "needs_background": "light"
     },
     "output_type": "display_data"
    }
   ],
   "source": [
    "plt.plot(model.tseries,(model.numI/numNodes)*7523778)"
   ]
  },
  {
   "cell_type": "code",
   "execution_count": 4,
   "metadata": {},
   "outputs": [],
   "source": [
    "np.save('green.npy',np.array([model.tseries, model.numI/numNodes]))"
   ]
  },
  {
   "cell_type": "code",
   "execution_count": 5,
   "metadata": {},
   "outputs": [
    {
     "name": "stdout",
     "output_type": "stream",
     "text": [
      "[20, 30, 40, 50, 60, 70, 80, 90]\n",
      "t = 0.94\n",
      "t = 10.08\n",
      "[Checkpoint: Updating parameters]\n",
      "t = 20.05\n",
      "[Checkpoint: Updating parameters]\n",
      "t = 30.05\n",
      "[Checkpoint: Updating parameters]\n",
      "t = 40.19\n",
      "[Checkpoint: Updating parameters]\n",
      "t = 50.08\n",
      "[Checkpoint: Updating parameters]\n",
      "t = 60.23\n",
      "[Checkpoint: Updating parameters]\n",
      "t = 70.00\n",
      "[Checkpoint: Updating parameters]\n",
      "t = 80.03\n",
      "[Checkpoint: Updating parameters]\n",
      "t = 90.03\n",
      "t = 100.03\n",
      "t = 110.04\n",
      "t = 120.03\n",
      "t = 130.02\n",
      "t = 140.00\n",
      "t = 150.00\n",
      "t = 160.00\n",
      "t = 170.00\n",
      "t = 180.00\n"
     ]
    },
    {
     "data": {
      "text/plain": [
       "True"
      ]
     },
     "execution_count": 5,
     "metadata": {},
     "output_type": "execute_result"
    }
   ],
   "source": [
    "# Continuing Scenario 2\n",
    "# If strictness of the lockdown increases the below will be result\n",
    "# Scale of the G_distancing matrix would decrease\n",
    "t=[]\n",
    "for i in range(8):\n",
    "    t.append(20+i*10)\n",
    "print(t)\n",
    "Sincr=[]\n",
    "numNodes = 10000\n",
    "baseGraph    = networkx.barabasi_albert_graph(n=numNodes, m=9)\n",
    "G_normal=custom_exponential_graph(baseGraph,scale=100)\n",
    "for j in range(7):\n",
    "    G_distancing=custom_exponential_graph(baseGraph,scale=(7-j))\n",
    "    Sincr.append(G_distancing)\n",
    "Sincr.append(G_normal)\n",
    "\n",
    "model1 = SEIRSNetworkModel(G=G_normal, beta=0.185, sigma=1/5, gamma=1/14, mu_I=0.0004, p=0.1,\n",
    "                          beta_D=0.155, sigma_D=1/5, gamma_D=1/14, mu_D=0.0004,\n",
    "                          psi_E=0, psi_I=0, q=0,\n",
    "                          initI=10)\n",
    "\n",
    "checkpoints = {'t':t, 'G': Sincr}\n",
    "model1.run(T=180, checkpoints=checkpoints)\n",
    "\n",
    "# model1.figure_infections()\n",
    "# plt.show()"
   ]
  },
  {
   "cell_type": "code",
   "execution_count": 6,
   "metadata": {},
   "outputs": [
    {
     "data": {
      "text/plain": [
       "[<matplotlib.lines.Line2D at 0x7f8327d24908>]"
      ]
     },
     "execution_count": 6,
     "metadata": {},
     "output_type": "execute_result"
    },
    {
     "data": {
      "image/png": "[encoded data removed]",
      "text/plain": [
       "<Figure size 432x288 with 1 Axes>"
      ]
     },
     "metadata": {
      "needs_background": "light"
     },
     "output_type": "display_data"
    }
   ],
   "source": [
    "plt.plot(model1.tseries,(model1.numI/numNodes)*7523778)"
   ]
  },
  {
   "cell_type": "code",
   "execution_count": 7,
   "metadata": {},
   "outputs": [],
   "source": [
    "np.save('orange.npy',np.array([model1.tseries, model1.numI/numNodes]))"
   ]
  },
  {
   "cell_type": "code",
   "execution_count": 8,
   "metadata": {},
   "outputs": [
    {
     "name": "stdout",
     "output_type": "stream",
     "text": [
      "[20, 30, 40, 50, 60, 70, 80, 90, 100, 110, 120, 130, 140, 150, 160]\n",
      "t = 0.05\n",
      "t = 10.12\n",
      "[Checkpoint: Updating parameters]\n",
      "t = 20.27\n",
      "[Checkpoint: Updating parameters]\n",
      "t = 30.02\n",
      "[Checkpoint: Updating parameters]\n",
      "t = 40.11\n",
      "[Checkpoint: Updating parameters]\n",
      "t = 50.21\n",
      "[Checkpoint: Updating parameters]\n",
      "t = 60.49\n",
      "[Checkpoint: Updating parameters]\n",
      "t = 70.58\n",
      "[Checkpoint: Updating parameters]\n",
      "t = 80.02\n",
      "[Checkpoint: Updating parameters]\n",
      "t = 90.02\n",
      "[Checkpoint: Updating parameters]\n",
      "t = 100.16\n",
      "[Checkpoint: Updating parameters]\n",
      "t = 110.05\n",
      "[Checkpoint: Updating parameters]\n",
      "t = 120.02\n",
      "[Checkpoint: Updating parameters]\n",
      "t = 130.06\n",
      "[Checkpoint: Updating parameters]\n",
      "t = 140.01\n",
      "[Checkpoint: Updating parameters]\n",
      "[Checkpoint: Updating parameters]\n",
      "t = 160.29\n",
      "t = 180.11\n"
     ]
    },
    {
     "data": {
      "text/plain": [
       "True"
      ]
     },
     "execution_count": 8,
     "metadata": {},
     "output_type": "execute_result"
    }
   ],
   "source": [
    "# Continuing Scenario 2\n",
    "# If strictness of the lockdown increases the below will be result\n",
    "# Scale of the G_distancing matrix would decrease\n",
    "t=[]\n",
    "for i in range(15):\n",
    "    t.append(20+i*10)\n",
    "print(t)\n",
    "Sincr=[]\n",
    "numNodes = 10000\n",
    "baseGraph    = networkx.barabasi_albert_graph(n=numNodes, m=9)\n",
    "G_normal=custom_exponential_graph(baseGraph,scale=100)\n",
    "for j in range(14):\n",
    "    G_distancing=custom_exponential_graph(baseGraph,scale=(7-0.5*j))\n",
    "    Sincr.append(G_distancing)\n",
    "Sincr.append(G_normal)\n",
    "\n",
    "model2 = SEIRSNetworkModel(G=G_normal, beta=0.185, sigma=1/5, gamma=1/14, mu_I=0.0004, p=0.1,\n",
    "                          beta_D=0.155, sigma_D=1/5, gamma_D=1/14, mu_D=0.0004,\n",
    "                          psi_E=0, psi_I=0, q=0,\n",
    "                          initI=10)\n",
    "\n",
    "checkpoints = {'t':t, 'G': Sincr}\n",
    "model2.run(T=180, checkpoints=checkpoints)\n",
    "\n",
    "# model2.figure_infections()\n",
    "# plt.show()"
   ]
  },
  {
   "cell_type": "code",
   "execution_count": 9,
   "metadata": {},
   "outputs": [
    {
     "data": {
      "text/plain": [
       "[<matplotlib.lines.Line2D at 0x7f832039f208>]"
      ]
     },
     "execution_count": 9,
     "metadata": {},
     "output_type": "execute_result"
    },
    {
     "data": {
      "image/png": "[encoded data removed]",
      "text/plain": [
       "<Figure size 432x288 with 1 Axes>"
      ]
     },
     "metadata": {
      "needs_background": "light"
     },
     "output_type": "display_data"
    }
   ],
   "source": [
    "plt.plot(model2.tseries,(model2.numI/numNodes)*7523778)"
   ]
  },
  {
   "cell_type": "code",
   "execution_count": 10,
   "metadata": {},
   "outputs": [],
   "source": [
    "np.save('red.npy',np.array([model2.tseries, model2.numI/numNodes]))"
   ]
  },
  {
   "cell_type": "code",
   "execution_count": null,
   "metadata": {},
   "outputs": [],
   "source": []
  }
 ],
 "metadata": {
  "kernelspec": {
   "display_name": "Python 3",
   "language": "python",
   "name": "python3"
  },
  "language_info": {
   "codemirror_mode": {
    "name": "ipython",
    "version": 3
   },
   "file_extension": ".py",
   "mimetype": "text/x-python",
   "name": "python",
   "nbconvert_exporter": "python",
   "pygments_lexer": "ipython3",
   "version": "3.6.9"
  }
 },
 "nbformat": 4,
 "nbformat_minor": 4
}
