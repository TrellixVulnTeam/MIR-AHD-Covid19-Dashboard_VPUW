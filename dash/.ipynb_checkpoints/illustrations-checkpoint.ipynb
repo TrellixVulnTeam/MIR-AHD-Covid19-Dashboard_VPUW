{
 "cells": [
  {
   "cell_type": "code",
   "execution_count": null,
   "metadata": {},
   "outputs": [],
   "source": [
    "from seirsplus.models import *\n",
    "import networkx\n",
    "import numpy as np\n",
    "import matplotlib.pyplot as plt"
   ]
  },
  {
   "cell_type": "code",
   "execution_count": null,
   "metadata": {},
   "outputs": [],
   "source": [
    "# Toy model \n",
    "# Scenario 1: No Testing No Lockdown\n",
    "# The parameters which would change :\n",
    "numNodes = 10000\n",
    "baseGraph    = networkx.barabasi_albert_graph(n=numNodes, m=9)\n",
    "G_normal     = custom_exponential_graph(baseGraph, scale=100)\n",
    "\n",
    "model = SEIRSNetworkModel(G=G_normal, beta=0.185, sigma=1/5, gamma=1/14, mu_I=0.0004, p=0.9,\n",
    "                          beta_D=0.155, sigma_D=1/5, gamma_D=1/14, mu_D=0.0004,\n",
    "                          psi_E=0, psi_I=0, q=0,\n",
    "                          initI=10)\n",
    "\n",
    "checkpoints = {'t': [20, 100]}\n",
    "\n",
    "model.run(T=180, checkpoints=checkpoints)\n",
    "\n",
    "# model.figure_infections()\n",
    "# plt.show()"
   ]
  },
  {
   "cell_type": "code",
   "execution_count": null,
   "metadata": {},
   "outputs": [],
   "source": [
    "plt.plot(model.tseries,(model.numI/numNodes)*7523778)"
   ]
  },
  {
   "cell_type": "code",
   "execution_count": null,
   "metadata": {},
   "outputs": [],
   "source": [
    "np.save('green.npy',np.array([model.tseries, model.numI/numNodes]))"
   ]
  },
  {
   "cell_type": "code",
   "execution_count": null,
   "metadata": {},
   "outputs": [],
   "source": [
    "# Continuing Scenario 2\n",
    "# If strictness of the lockdown increases the below will be result\n",
    "# Scale of the G_distancing matrix would decrease\n",
    "t=[]\n",
    "for i in range(8):\n",
    "    t.append(20+i*10)\n",
    "print(t)\n",
    "Sincr=[]\n",
    "numNodes = 10000\n",
    "baseGraph    = networkx.barabasi_albert_graph(n=numNodes, m=9)\n",
    "G_normal=custom_exponential_graph(baseGraph,scale=100)\n",
    "for j in range(7):\n",
    "    G_distancing=custom_exponential_graph(baseGraph,scale=(7-j))\n",
    "    Sincr.append(G_distancing)\n",
    "Sincr.append(G_normal)\n",
    "\n",
    "model1 = SEIRSNetworkModel(G=G_normal, beta=0.185, sigma=1/5, gamma=1/14, mu_I=0.0004, p=0.1,\n",
    "                          beta_D=0.155, sigma_D=1/5, gamma_D=1/14, mu_D=0.0004,\n",
    "                          psi_E=0, psi_I=0, q=0,\n",
    "                          initI=10)\n",
    "\n",
    "checkpoints = {'t':t, 'G': Sincr}\n",
    "model1.run(T=180, checkpoints=checkpoints)\n",
    "\n",
    "# model1.figure_infections()\n",
    "# plt.show()"
   ]
  },
  {
   "cell_type": "code",
   "execution_count": null,
   "metadata": {},
   "outputs": [],
   "source": [
    "plt.plot(model1.tseries,(model1.numI/numNodes)*7523778)"
   ]
  },
  {
   "cell_type": "code",
   "execution_count": null,
   "metadata": {},
   "outputs": [],
   "source": [
    "np.save('orange.npy',np.array([model1.tseries, model1.numI/numNodes]))"
   ]
  },
  {
   "cell_type": "code",
   "execution_count": null,
   "metadata": {},
   "outputs": [],
   "source": [
    "# Continuing Scenario 2\n",
    "# If strictness of the lockdown increases the below will be result\n",
    "# Scale of the G_distancing matrix would decrease\n",
    "t=[]\n",
    "for i in range(15):\n",
    "    t.append(20+i*10)\n",
    "print(t)\n",
    "Sincr=[]\n",
    "numNodes = 10000\n",
    "baseGraph    = networkx.barabasi_albert_graph(n=numNodes, m=9)\n",
    "G_normal=custom_exponential_graph(baseGraph,scale=100)\n",
    "for j in range(14):\n",
    "    G_distancing=custom_exponential_graph(baseGraph,scale=(7-0.5*j))\n",
    "    Sincr.append(G_distancing)\n",
    "Sincr.append(G_normal)\n",
    "\n",
    "model2 = SEIRSNetworkModel(G=G_normal, beta=0.185, sigma=1/5, gamma=1/14, mu_I=0.0004, p=0.1,\n",
    "                          beta_D=0.155, sigma_D=1/5, gamma_D=1/14, mu_D=0.0004,\n",
    "                          psi_E=0, psi_I=0, q=0,\n",
    "                          initI=10)\n",
    "\n",
    "checkpoints = {'t':t, 'G': Sincr}\n",
    "model2.run(T=180, checkpoints=checkpoints)\n",
    "\n",
    "# model2.figure_infections()\n",
    "# plt.show()"
   ]
  },
  {
   "cell_type": "code",
   "execution_count": null,
   "metadata": {},
   "outputs": [],
   "source": [
    "plt.plot(model2.tseries,(model2.numI/numNodes)*7523778)"
   ]
  },
  {
   "cell_type": "code",
   "execution_count": null,
   "metadata": {},
   "outputs": [],
   "source": [
    "np.save('red.npy',np.array([model2.tseries, model2.numI/numNodes]))"
   ]
  },
  {
   "cell_type": "code",
   "execution_count": null,
   "metadata": {},
   "outputs": [],
   "source": []
  }
 ],
 "metadata": {
  "kernelspec": {
   "display_name": "Python 3",
   "language": "python",
   "name": "python3"
  },
  "language_info": {
   "codemirror_mode": {
    "name": "ipython",
    "version": 3
   },
   "file_extension": ".py",
   "mimetype": "text/x-python",
   "name": "python",
   "nbconvert_exporter": "python",
   "pygments_lexer": "ipython3",
   "version": "3.6.9"
  }
 },
 "nbformat": 4,
 "nbformat_minor": 4
}
