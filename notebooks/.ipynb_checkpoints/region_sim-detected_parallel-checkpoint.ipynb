{
 "cells": [
  {
   "cell_type": "code",
   "execution_count": 1,
   "metadata": {},
   "outputs": [],
   "source": [
    "from seirsplus.models import *\n",
    "import networkx as nx\n",
    "import matplotlib.pyplot as plt\n",
    "import numpy as np\n",
    "import pandas as pd\n",
    "import math\n",
    "import json\n",
    "import  pickle\n",
    "from shapely.geometry import Polygon, Point, MultiPoint\n",
    "from scipy.spatial import ConvexHull\n",
    "from dateutil import parser\n",
    "\n",
    "from multiprocessing import Pool, freeze_support\n",
    "\n",
    "%matplotlib inline"
   ]
  },
  {
   "cell_type": "code",
   "execution_count": 2,
   "metadata": {},
   "outputs": [],
   "source": [
    "# Below section for creating graphs and monte carlo simul\n",
    "\n",
    "def get_three_tuple(df):\n",
    "    arr = []\n",
    "    for row in df.iterrows():\n",
    "        v1 = np.percentile(row[1], 2.5)\n",
    "        v2 = np.percentile(row[1], 50)\n",
    "        v3 = np.percentile(row[1], 97.5)\n",
    "        arr.append(np.array([v1,v2,v3]))\n",
    "    return np.array(arr)\n",
    "\n",
    "def single_run(model_init, model_run, i):\n",
    "    model = SEIRSNetworkModel(**model_init)\n",
    "    model.run(**model_run)\n",
    "    time=pd.to_datetime(pd.Series(model.tseries),unit='d',origin='2020-04-01')   \n",
    "    \n",
    "    df_tempI=pd.DataFrame({'t':time, i:model.numI})\n",
    "    df_tempI.set_index('t',inplace=True)\n",
    "    df_tempI['t']=df_tempI.index.date\n",
    "    df_tempI.reset_index(drop=True,inplace=True)\n",
    "    df_tempI.set_index('t',inplace=True)\n",
    "    df_tempI.reset_index(inplace=True)\n",
    "    df_tempI = pd.pivot_table(df_tempI, index='t', aggfunc='mean')\n",
    "\n",
    "    df_tempDI=pd.DataFrame({'t':time, i:model.numD_I})\n",
    "    df_tempDI.set_index('t',inplace=True)\n",
    "    df_tempDI['t']=df_tempDI.index.date\n",
    "    df_tempDI.reset_index(drop=True,inplace=True)\n",
    "    df_tempDI.set_index('t',inplace=True)\n",
    "    df_tempDI.reset_index(inplace=True)\n",
    "    df_tempDI= pd.pivot_table(df_tempDI, index='t', aggfunc='mean')\n",
    "\n",
    "    df_tempR=pd.DataFrame({'t':time, i:model.numR})\n",
    "    df_tempR.set_index('t',inplace=True)\n",
    "    df_tempR['t']=df_tempR.index.date\n",
    "    df_tempR.reset_index(drop=True,inplace=True)\n",
    "    df_tempR.set_index('t',inplace=True)\n",
    "    df_tempR.reset_index(inplace=True)\n",
    "    df_tempR= pd.pivot_table(df_tempR, index='t', aggfunc='mean')\n",
    "\n",
    "    df_tempF=pd.DataFrame({'t':time, i:model.numF})\n",
    "    df_tempF.set_index('t',inplace=True)\n",
    "    df_tempF['t']=df_tempF.index.date\n",
    "    df_tempF.reset_index(drop=True,inplace=True)\n",
    "    df_tempF.set_index('t',inplace=True)\n",
    "    df_tempF.reset_index(inplace=True)\n",
    "    df_tempF= pd.pivot_table(df_tempF, index='t', aggfunc='mean')\n",
    "\n",
    "    return df_tempI, df_tempDI, df_tempR, df_tempF\n",
    "\n",
    "\n",
    "def monte(N, initI,theta_E, theta_I ,mf, checkpoints, G, sim=2):\n",
    "    beta = 0.182\n",
    "    sigma = 1.0/5.2\n",
    "    gamma = 1.0/15\n",
    "    mu_I = 0.004\n",
    "    p = 0.6\n",
    "    Q = None\n",
    "    beta_D = 0.155\n",
    "    sigma_D = 1.0/5.2\n",
    "    mu_D = 0.0004\n",
    "    theta_E = theta_E\n",
    "    theta_I = theta_I\n",
    "    phi_E = 0.4\n",
    "    phi_I = 0.8\n",
    "    initN = N\n",
    "    initI = initI\n",
    "    initE = initI*4\n",
    "    initD_E = 0.0\n",
    "    initD_I = 0\n",
    "    initR = 0\n",
    "    initF = 0\n",
    "    x_i = 0.001\n",
    "    psi_E = 0.04\n",
    "    psi_I = 1\n",
    "    q = 0.3\n",
    "    gamma_D = gamma\n",
    "\n",
    "    # Creating dataframe\n",
    "    time_index=pd.date_range(start='2020-04-01', periods=90)\n",
    "    df_I=pd.DataFrame(index=time_index)\n",
    "    df_DI=pd.DataFrame(index=time_index)\n",
    "    df_R = pd.DataFrame(index=time_index)\n",
    "    df_F = pd.DataFrame(index=time_index)\n",
    "    \n",
    "    model_init = {'G' : G, 'Q' : G_Quarantine, 'beta' : beta, 'sigma' : sigma,\n",
    "                 'gamma' : gamma, 'mu_I' : mu_I, 'beta_D' : beta_D, 'sigma_D' : sigma_D,\n",
    "                 'gamma_D' : gamma_D, 'mu_D' : mu_D, 'theta_E' : theta_E, 'theta_I' : theta_I,\n",
    "                 'phi_E' : phi_E, 'phi_I' : phi_I, 'psi_E' : psi_E, 'psi_I' : psi_I, 'q' : 0.3,\n",
    "                 'initI' : initI, 'initE' : initE, 'initD_E' : initD_E, 'initD_I' : initD_I}\n",
    "    \n",
    "    model_run = {'T':120, 'checkpoints':checkpoints, 'verbose':False}\n",
    "    \n",
    "    pool = Pool(processes = 32)\n",
    "    \n",
    "    results = []\n",
    "    for i in range(1, sim+1):\n",
    "        results.append(pool.apply_async(single_run, args=(model_init, model_run, i)))\n",
    "    \n",
    "    pool.close()\n",
    "    pool.join()\n",
    "\n",
    "    for res in results:\n",
    "        df_l = res.get()\n",
    "        df_I=df_I.merge(df_l[0], how='outer', right_index=True, left_index=True).ffill(axis=0).fillna(np.NaN)        \n",
    "\n",
    "        df_DI=df_DI.merge(df_l[1], how='outer', right_index=True, left_index=True).ffill(axis=0).fillna(np.NaN)        \n",
    "\n",
    "        df_R=df_R.merge(df_l[2], how='outer', right_index=True, left_index=True).ffill(axis=0).fillna(np.NaN)\n",
    "\n",
    "        df_F=df_F.merge(df_l[3], how='outer', right_index=True, left_index=True).ffill(axis=0).fillna(np.NaN)\n",
    "        \n",
    "        df_I =df_I.interpolate(method='linear', limit_direction='forward', axis=0)\n",
    "        df_DI =df_DI.interpolate(method='linear', limit_direction='forward', axis=0)\n",
    "        df_R = df_R.interpolate(method='linear',limit_direction='forward',axis = 0)\n",
    "        df_F = df_F.interpolate(method='linear',limit_direction='forward',axis = 0)\n",
    "\n",
    "    df_I = df_I*100.0/N\n",
    "    df_DI = df_DI*100.0/N\n",
    "    df_R = df_R*100.0/N\n",
    "    df_F = df_F*100.0/N\n",
    "    \n",
    "    return df_I, df_DI, df_R, df_F\n",
    "\n",
    "#     # Changes for looking at actual numbers\n",
    "#     df_Iavg=pd.DataFrame.mean(df_I, axis=1)*100.0/N\n",
    "#     df_DIavg=pd.DataFrame.mean(df_DI, axis=1)*100.0/N\n",
    "#     df_Ravg = pd.DataFrame.mean(df_R, axis = 1)*100.0/N\n",
    "#     df_Favg = pd.DataFrame.mean(df_F, axis = 1)*100.0/N\n",
    "        \n",
    "#     df_Icstd=pd.DataFrame.std(df_I.cumsum(axis=0), axis=1)*100.0/N\n",
    "#     df_DIcstd=pd.DataFrame.std(df_DI.cumsum(axis=0), axis=1)*100.0/N\n",
    "#     df_Rcstd=pd.DataFrame.std(df_R.cumsum(axis=0), axis=1)*100.0/N\n",
    "#     df_Fcstd=pd.DataFrame.std(df_F.cumsum(axis=0), axis=1)*100.0/N\n",
    "\n",
    "#     df_Istd=pd.DataFrame.std(df_I, axis=1)*100.0/N\n",
    "#     df_DIstd=pd.DataFrame.std(df_DI, axis=1)*100.0/N\n",
    "#     df_Rstd=pd.DataFrame.std(df_R, axis=1)*100.0/N\n",
    "#     df_Fstd=pd.DataFrame.std(df_F, axis=1)*100.0/N\n",
    "\n",
    "#     return {\n",
    "#         'df_DI':df_DIavg, 'df_I': df_Iavg,'df_R': df_Ravg, 'df_F':df_Favg,\n",
    "#         'df_Icstd':df_Icstd, 'df_Rcstd':df_Rcstd, 'df_Fcstd': df_Fcstd, 'df_DIcstd':df_DIcstd,\n",
    "#         'df_Istd':df_Istd, 'df_Rstd':df_Rstd, 'df_Fstd': df_Fstd, 'df_DIstd':df_DIstd,\n",
    "#            }"
   ]
  },
  {
   "cell_type": "code",
   "execution_count": 3,
   "metadata": {},
   "outputs": [],
   "source": [
    "def gen_graphs(numNodes, coeff):\n",
    "    G_normal = nx.erdos_renyi_graph(n=numNodes, p = coeff*1.1/numNodes, seed=42, directed=False)\n",
    "    G_relaxed = nx.erdos_renyi_graph(n=numNodes, p = coeff*0.301/numNodes , seed=42, directed=False)\n",
    "    G_Quarantine = nx.erdos_renyi_graph(n=numNodes, p = coeff*0.006/numNodes , seed=42, directed=False)\n",
    "    \n",
    "    return G_normal, G_relaxed, G_Quarantine"
   ]
  },
  {
   "cell_type": "code",
   "execution_count": 4,
   "metadata": {},
   "outputs": [],
   "source": [
    "freeze_support()\n",
    "plt.rcParams['figure.figsize'] = (15, 8)"
   ]
  },
  {
   "cell_type": "code",
   "execution_count": 5,
   "metadata": {},
   "outputs": [],
   "source": [
    "with open('region_sim1.p','rb') as fp:\n",
    "    S5,S10,S20 = pickle.load(fp)"
   ]
  },
  {
   "cell_type": "code",
   "execution_count": 6,
   "metadata": {},
   "outputs": [],
   "source": [
    "date_length = len(S10['timeseries'][15:])\n",
    "S5_ts = np.array([float(j[1])*100.0/S5['total_pop'] for j in S5['timeseries'][15:]])-np.array([float(j[1])*100.0/S5['total_pop'] for j in S5['timeseries'][14:-1]])\n",
    "S10_ts = np.array([float(j[1])*100.0/S10['total_pop'] for j in S10['timeseries'][15:]])-np.array([float(j[1])*100.0/S10['total_pop'] for j in S10['timeseries'][14:-1]])\n",
    "S20_ts = np.array([float(j[1])*100.0/S20['total_pop'] for j in S20['timeseries'][15:]])-np.array([float(j[1])*100.0/S20['total_pop'] for j in S20['timeseries'][14:-1]])\n",
    "\n",
    "I = 14\n",
    "Et = [0.000, 0.00001,0.00016,0.0002]\n",
    "It = [0.00007, 0.00075, 0.0009, 0.004]\n",
    "sim = 1000"
   ]
  },
  {
   "cell_type": "code",
   "execution_count": 7,
   "metadata": {
    "scrolled": true
   },
   "outputs": [
    {
     "ename": "KeyboardInterrupt",
     "evalue": "",
     "output_type": "error",
     "traceback": [
      "\u001b[0;31m---------------------------------------------------------------------------\u001b[0m",
      "\u001b[0;31mKeyboardInterrupt\u001b[0m                         Traceback (most recent call last)",
      "\u001b[0;32m<ipython-input-7-9eca8d223d7b>\u001b[0m in \u001b[0;36m<module>\u001b[0;34m\u001b[0m\n\u001b[1;32m     14\u001b[0m                       }\n\u001b[1;32m     15\u001b[0m \u001b[0;34m\u001b[0m\u001b[0m\n\u001b[0;32m---> 16\u001b[0;31m \u001b[0mtemp\u001b[0m \u001b[0;34m=\u001b[0m \u001b[0mmonte\u001b[0m\u001b[0;34m(\u001b[0m\u001b[0mnumNodes\u001b[0m\u001b[0;34m,\u001b[0m\u001b[0minitI\u001b[0m\u001b[0;34m=\u001b[0m\u001b[0minitI\u001b[0m\u001b[0;34m,\u001b[0m\u001b[0mtheta_E\u001b[0m \u001b[0;34m=\u001b[0m \u001b[0mtheta_E\u001b[0m\u001b[0;34m,\u001b[0m \u001b[0mtheta_I\u001b[0m \u001b[0;34m=\u001b[0m \u001b[0mtheta_I\u001b[0m \u001b[0;34m,\u001b[0m\u001b[0mmf\u001b[0m\u001b[0;34m=\u001b[0m\u001b[0mmf\u001b[0m\u001b[0;34m,\u001b[0m \u001b[0mcheckpoints\u001b[0m\u001b[0;34m=\u001b[0m\u001b[0mcheckpoints\u001b[0m\u001b[0;34m,\u001b[0m \u001b[0mG\u001b[0m \u001b[0;34m=\u001b[0m \u001b[0mG_normal\u001b[0m\u001b[0;34m,\u001b[0m \u001b[0msim\u001b[0m\u001b[0;34m=\u001b[0m\u001b[0msim\u001b[0m\u001b[0;34m)\u001b[0m\u001b[0;34m;\u001b[0m\u001b[0;34m\u001b[0m\u001b[0;34m\u001b[0m\u001b[0m\n\u001b[0m",
      "\u001b[0;32m<ipython-input-2-2f4d1dc84714>\u001b[0m in \u001b[0;36mmonte\u001b[0;34m(N, initI, theta_E, theta_I, mf, checkpoints, G, sim)\u001b[0m\n\u001b[1;32m    113\u001b[0m         \u001b[0mdf_I\u001b[0m \u001b[0;34m=\u001b[0m\u001b[0mdf_I\u001b[0m\u001b[0;34m.\u001b[0m\u001b[0minterpolate\u001b[0m\u001b[0;34m(\u001b[0m\u001b[0mmethod\u001b[0m\u001b[0;34m=\u001b[0m\u001b[0;34m'linear'\u001b[0m\u001b[0;34m,\u001b[0m \u001b[0mlimit_direction\u001b[0m\u001b[0;34m=\u001b[0m\u001b[0;34m'forward'\u001b[0m\u001b[0;34m,\u001b[0m \u001b[0maxis\u001b[0m\u001b[0;34m=\u001b[0m\u001b[0;36m0\u001b[0m\u001b[0;34m)\u001b[0m\u001b[0;34m\u001b[0m\u001b[0;34m\u001b[0m\u001b[0m\n\u001b[1;32m    114\u001b[0m         \u001b[0mdf_DI\u001b[0m \u001b[0;34m=\u001b[0m\u001b[0mdf_DI\u001b[0m\u001b[0;34m.\u001b[0m\u001b[0minterpolate\u001b[0m\u001b[0;34m(\u001b[0m\u001b[0mmethod\u001b[0m\u001b[0;34m=\u001b[0m\u001b[0;34m'linear'\u001b[0m\u001b[0;34m,\u001b[0m \u001b[0mlimit_direction\u001b[0m\u001b[0;34m=\u001b[0m\u001b[0;34m'forward'\u001b[0m\u001b[0;34m,\u001b[0m \u001b[0maxis\u001b[0m\u001b[0;34m=\u001b[0m\u001b[0;36m0\u001b[0m\u001b[0;34m)\u001b[0m\u001b[0;34m\u001b[0m\u001b[0;34m\u001b[0m\u001b[0m\n\u001b[0;32m--> 115\u001b[0;31m         \u001b[0mdf_R\u001b[0m \u001b[0;34m=\u001b[0m \u001b[0mdf_R\u001b[0m\u001b[0;34m.\u001b[0m\u001b[0minterpolate\u001b[0m\u001b[0;34m(\u001b[0m\u001b[0mmethod\u001b[0m\u001b[0;34m=\u001b[0m\u001b[0;34m'linear'\u001b[0m\u001b[0;34m,\u001b[0m\u001b[0mlimit_direction\u001b[0m\u001b[0;34m=\u001b[0m\u001b[0;34m'forward'\u001b[0m\u001b[0;34m,\u001b[0m\u001b[0maxis\u001b[0m \u001b[0;34m=\u001b[0m \u001b[0;36m0\u001b[0m\u001b[0;34m)\u001b[0m\u001b[0;34m\u001b[0m\u001b[0;34m\u001b[0m\u001b[0m\n\u001b[0m\u001b[1;32m    116\u001b[0m         \u001b[0mdf_F\u001b[0m \u001b[0;34m=\u001b[0m \u001b[0mdf_F\u001b[0m\u001b[0;34m.\u001b[0m\u001b[0minterpolate\u001b[0m\u001b[0;34m(\u001b[0m\u001b[0mmethod\u001b[0m\u001b[0;34m=\u001b[0m\u001b[0;34m'linear'\u001b[0m\u001b[0;34m,\u001b[0m\u001b[0mlimit_direction\u001b[0m\u001b[0;34m=\u001b[0m\u001b[0;34m'forward'\u001b[0m\u001b[0;34m,\u001b[0m\u001b[0maxis\u001b[0m \u001b[0;34m=\u001b[0m \u001b[0;36m0\u001b[0m\u001b[0;34m)\u001b[0m\u001b[0;34m\u001b[0m\u001b[0;34m\u001b[0m\u001b[0m\n\u001b[1;32m    117\u001b[0m \u001b[0;34m\u001b[0m\u001b[0m\n",
      "\u001b[0;32m~/Networks/networks/lib/python3.6/site-packages/pandas/core/generic.py\u001b[0m in \u001b[0;36minterpolate\u001b[0;34m(self, method, axis, limit, inplace, limit_direction, limit_area, downcast, **kwargs)\u001b[0m\n\u001b[1;32m   7015\u001b[0m             \u001b[0minplace\u001b[0m\u001b[0;34m=\u001b[0m\u001b[0minplace\u001b[0m\u001b[0;34m,\u001b[0m\u001b[0;34m\u001b[0m\u001b[0;34m\u001b[0m\u001b[0m\n\u001b[1;32m   7016\u001b[0m             \u001b[0mdowncast\u001b[0m\u001b[0;34m=\u001b[0m\u001b[0mdowncast\u001b[0m\u001b[0;34m,\u001b[0m\u001b[0;34m\u001b[0m\u001b[0;34m\u001b[0m\u001b[0m\n\u001b[0;32m-> 7017\u001b[0;31m             \u001b[0;34m**\u001b[0m\u001b[0mkwargs\u001b[0m\u001b[0;34m,\u001b[0m\u001b[0;34m\u001b[0m\u001b[0;34m\u001b[0m\u001b[0m\n\u001b[0m\u001b[1;32m   7018\u001b[0m         )\n\u001b[1;32m   7019\u001b[0m \u001b[0;34m\u001b[0m\u001b[0m\n",
      "\u001b[0;32m~/Networks/networks/lib/python3.6/site-packages/pandas/core/internals/managers.py\u001b[0m in \u001b[0;36minterpolate\u001b[0;34m(self, **kwargs)\u001b[0m\n\u001b[1;32m    568\u001b[0m \u001b[0;34m\u001b[0m\u001b[0m\n\u001b[1;32m    569\u001b[0m     \u001b[0;32mdef\u001b[0m \u001b[0minterpolate\u001b[0m\u001b[0;34m(\u001b[0m\u001b[0mself\u001b[0m\u001b[0;34m,\u001b[0m \u001b[0;34m**\u001b[0m\u001b[0mkwargs\u001b[0m\u001b[0;34m)\u001b[0m\u001b[0;34m:\u001b[0m\u001b[0;34m\u001b[0m\u001b[0;34m\u001b[0m\u001b[0m\n\u001b[0;32m--> 570\u001b[0;31m         \u001b[0;32mreturn\u001b[0m \u001b[0mself\u001b[0m\u001b[0;34m.\u001b[0m\u001b[0mapply\u001b[0m\u001b[0;34m(\u001b[0m\u001b[0;34m\"interpolate\"\u001b[0m\u001b[0;34m,\u001b[0m \u001b[0;34m**\u001b[0m\u001b[0mkwargs\u001b[0m\u001b[0;34m)\u001b[0m\u001b[0;34m\u001b[0m\u001b[0;34m\u001b[0m\u001b[0m\n\u001b[0m\u001b[1;32m    571\u001b[0m \u001b[0;34m\u001b[0m\u001b[0m\n\u001b[1;32m    572\u001b[0m     \u001b[0;32mdef\u001b[0m \u001b[0mshift\u001b[0m\u001b[0;34m(\u001b[0m\u001b[0mself\u001b[0m\u001b[0;34m,\u001b[0m \u001b[0;34m**\u001b[0m\u001b[0mkwargs\u001b[0m\u001b[0;34m)\u001b[0m\u001b[0;34m:\u001b[0m\u001b[0;34m\u001b[0m\u001b[0;34m\u001b[0m\u001b[0m\n",
      "\u001b[0;32m~/Networks/networks/lib/python3.6/site-packages/pandas/core/internals/managers.py\u001b[0m in \u001b[0;36mapply\u001b[0;34m(self, f, filter, **kwargs)\u001b[0m\n\u001b[1;32m    440\u001b[0m                 \u001b[0mapplied\u001b[0m \u001b[0;34m=\u001b[0m \u001b[0mb\u001b[0m\u001b[0;34m.\u001b[0m\u001b[0mapply\u001b[0m\u001b[0;34m(\u001b[0m\u001b[0mf\u001b[0m\u001b[0;34m,\u001b[0m \u001b[0;34m**\u001b[0m\u001b[0mkwargs\u001b[0m\u001b[0;34m)\u001b[0m\u001b[0;34m\u001b[0m\u001b[0;34m\u001b[0m\u001b[0m\n\u001b[1;32m    441\u001b[0m             \u001b[0;32melse\u001b[0m\u001b[0;34m:\u001b[0m\u001b[0;34m\u001b[0m\u001b[0;34m\u001b[0m\u001b[0m\n\u001b[0;32m--> 442\u001b[0;31m                 \u001b[0mapplied\u001b[0m \u001b[0;34m=\u001b[0m \u001b[0mgetattr\u001b[0m\u001b[0;34m(\u001b[0m\u001b[0mb\u001b[0m\u001b[0;34m,\u001b[0m \u001b[0mf\u001b[0m\u001b[0;34m)\u001b[0m\u001b[0;34m(\u001b[0m\u001b[0;34m**\u001b[0m\u001b[0mkwargs\u001b[0m\u001b[0;34m)\u001b[0m\u001b[0;34m\u001b[0m\u001b[0;34m\u001b[0m\u001b[0m\n\u001b[0m\u001b[1;32m    443\u001b[0m             \u001b[0mresult_blocks\u001b[0m \u001b[0;34m=\u001b[0m \u001b[0m_extend_blocks\u001b[0m\u001b[0;34m(\u001b[0m\u001b[0mapplied\u001b[0m\u001b[0;34m,\u001b[0m \u001b[0mresult_blocks\u001b[0m\u001b[0;34m)\u001b[0m\u001b[0;34m\u001b[0m\u001b[0;34m\u001b[0m\u001b[0m\n\u001b[1;32m    444\u001b[0m \u001b[0;34m\u001b[0m\u001b[0m\n",
      "\u001b[0;32m~/Networks/networks/lib/python3.6/site-packages/pandas/core/internals/blocks.py\u001b[0m in \u001b[0;36minterpolate\u001b[0;34m(self, method, axis, index, values, inplace, limit, limit_direction, limit_area, fill_value, coerce, downcast, **kwargs)\u001b[0m\n\u001b[1;32m   1168\u001b[0m             \u001b[0minplace\u001b[0m\u001b[0;34m=\u001b[0m\u001b[0minplace\u001b[0m\u001b[0;34m,\u001b[0m\u001b[0;34m\u001b[0m\u001b[0;34m\u001b[0m\u001b[0m\n\u001b[1;32m   1169\u001b[0m             \u001b[0mdowncast\u001b[0m\u001b[0;34m=\u001b[0m\u001b[0mdowncast\u001b[0m\u001b[0;34m,\u001b[0m\u001b[0;34m\u001b[0m\u001b[0;34m\u001b[0m\u001b[0m\n\u001b[0;32m-> 1170\u001b[0;31m             \u001b[0;34m**\u001b[0m\u001b[0mkwargs\u001b[0m\u001b[0;34m,\u001b[0m\u001b[0;34m\u001b[0m\u001b[0;34m\u001b[0m\u001b[0m\n\u001b[0m\u001b[1;32m   1171\u001b[0m         )\n\u001b[1;32m   1172\u001b[0m \u001b[0;34m\u001b[0m\u001b[0m\n",
      "\u001b[0;32m~/Networks/networks/lib/python3.6/site-packages/pandas/core/internals/blocks.py\u001b[0m in \u001b[0;36m_interpolate\u001b[0;34m(self, method, index, values, fill_value, axis, limit, limit_direction, limit_area, inplace, downcast, **kwargs)\u001b[0m\n\u001b[1;32m   1264\u001b[0m \u001b[0;34m\u001b[0m\u001b[0m\n\u001b[1;32m   1265\u001b[0m         \u001b[0;31m# interp each column independently\u001b[0m\u001b[0;34m\u001b[0m\u001b[0;34m\u001b[0m\u001b[0;34m\u001b[0m\u001b[0m\n\u001b[0;32m-> 1266\u001b[0;31m         \u001b[0minterp_values\u001b[0m \u001b[0;34m=\u001b[0m \u001b[0mnp\u001b[0m\u001b[0;34m.\u001b[0m\u001b[0mapply_along_axis\u001b[0m\u001b[0;34m(\u001b[0m\u001b[0mfunc\u001b[0m\u001b[0;34m,\u001b[0m \u001b[0maxis\u001b[0m\u001b[0;34m,\u001b[0m \u001b[0mdata\u001b[0m\u001b[0;34m)\u001b[0m\u001b[0;34m\u001b[0m\u001b[0;34m\u001b[0m\u001b[0m\n\u001b[0m\u001b[1;32m   1267\u001b[0m \u001b[0;34m\u001b[0m\u001b[0m\n\u001b[1;32m   1268\u001b[0m         \u001b[0mblocks\u001b[0m \u001b[0;34m=\u001b[0m \u001b[0;34m[\u001b[0m\u001b[0mself\u001b[0m\u001b[0;34m.\u001b[0m\u001b[0mmake_block_same_class\u001b[0m\u001b[0;34m(\u001b[0m\u001b[0minterp_values\u001b[0m\u001b[0;34m)\u001b[0m\u001b[0;34m]\u001b[0m\u001b[0;34m\u001b[0m\u001b[0;34m\u001b[0m\u001b[0m\n",
      "\u001b[0;32m<__array_function__ internals>\u001b[0m in \u001b[0;36mapply_along_axis\u001b[0;34m(*args, **kwargs)\u001b[0m\n",
      "\u001b[0;32m~/Networks/networks/lib/python3.6/site-packages/numpy/lib/shape_base.py\u001b[0m in \u001b[0;36mapply_along_axis\u001b[0;34m(func1d, axis, arr, *args, **kwargs)\u001b[0m\n\u001b[1;32m    400\u001b[0m     \u001b[0mbuff\u001b[0m\u001b[0;34m[\u001b[0m\u001b[0mind0\u001b[0m\u001b[0;34m]\u001b[0m \u001b[0;34m=\u001b[0m \u001b[0mres\u001b[0m\u001b[0;34m\u001b[0m\u001b[0;34m\u001b[0m\u001b[0m\n\u001b[1;32m    401\u001b[0m     \u001b[0;32mfor\u001b[0m \u001b[0mind\u001b[0m \u001b[0;32min\u001b[0m \u001b[0minds\u001b[0m\u001b[0;34m:\u001b[0m\u001b[0;34m\u001b[0m\u001b[0;34m\u001b[0m\u001b[0m\n\u001b[0;32m--> 402\u001b[0;31m         \u001b[0mbuff\u001b[0m\u001b[0;34m[\u001b[0m\u001b[0mind\u001b[0m\u001b[0;34m]\u001b[0m \u001b[0;34m=\u001b[0m \u001b[0masanyarray\u001b[0m\u001b[0;34m(\u001b[0m\u001b[0mfunc1d\u001b[0m\u001b[0;34m(\u001b[0m\u001b[0minarr_view\u001b[0m\u001b[0;34m[\u001b[0m\u001b[0mind\u001b[0m\u001b[0;34m]\u001b[0m\u001b[0;34m,\u001b[0m \u001b[0;34m*\u001b[0m\u001b[0margs\u001b[0m\u001b[0;34m,\u001b[0m \u001b[0;34m**\u001b[0m\u001b[0mkwargs\u001b[0m\u001b[0;34m)\u001b[0m\u001b[0;34m)\u001b[0m\u001b[0;34m\u001b[0m\u001b[0;34m\u001b[0m\u001b[0m\n\u001b[0m\u001b[1;32m    403\u001b[0m \u001b[0;34m\u001b[0m\u001b[0m\n\u001b[1;32m    404\u001b[0m     \u001b[0;32mif\u001b[0m \u001b[0;32mnot\u001b[0m \u001b[0misinstance\u001b[0m\u001b[0;34m(\u001b[0m\u001b[0mres\u001b[0m\u001b[0;34m,\u001b[0m \u001b[0mmatrix\u001b[0m\u001b[0;34m)\u001b[0m\u001b[0;34m:\u001b[0m\u001b[0;34m\u001b[0m\u001b[0;34m\u001b[0m\u001b[0m\n",
      "\u001b[0;32m~/Networks/networks/lib/python3.6/site-packages/pandas/core/internals/blocks.py\u001b[0m in \u001b[0;36mfunc\u001b[0;34m(x)\u001b[0m\n\u001b[1;32m   1260\u001b[0m                 \u001b[0mfill_value\u001b[0m\u001b[0;34m=\u001b[0m\u001b[0mfill_value\u001b[0m\u001b[0;34m,\u001b[0m\u001b[0;34m\u001b[0m\u001b[0;34m\u001b[0m\u001b[0m\n\u001b[1;32m   1261\u001b[0m                 \u001b[0mbounds_error\u001b[0m\u001b[0;34m=\u001b[0m\u001b[0;32mFalse\u001b[0m\u001b[0;34m,\u001b[0m\u001b[0;34m\u001b[0m\u001b[0;34m\u001b[0m\u001b[0m\n\u001b[0;32m-> 1262\u001b[0;31m                 \u001b[0;34m**\u001b[0m\u001b[0mkwargs\u001b[0m\u001b[0;34m,\u001b[0m\u001b[0;34m\u001b[0m\u001b[0;34m\u001b[0m\u001b[0m\n\u001b[0m\u001b[1;32m   1263\u001b[0m             )\n\u001b[1;32m   1264\u001b[0m \u001b[0;34m\u001b[0m\u001b[0m\n",
      "\u001b[0;32m~/Networks/networks/lib/python3.6/site-packages/pandas/core/missing.py\u001b[0m in \u001b[0;36minterpolate_1d\u001b[0;34m(xvalues, yvalues, method, limit, limit_direction, limit_area, fill_value, bounds_error, order, **kwargs)\u001b[0m\n\u001b[1;32m    180\u001b[0m     \u001b[0;31m# Treat the original, non-scipy methods first.\u001b[0m\u001b[0;34m\u001b[0m\u001b[0;34m\u001b[0m\u001b[0;34m\u001b[0m\u001b[0m\n\u001b[1;32m    181\u001b[0m \u001b[0;34m\u001b[0m\u001b[0m\n\u001b[0;32m--> 182\u001b[0;31m     \u001b[0minvalid\u001b[0m \u001b[0;34m=\u001b[0m \u001b[0misna\u001b[0m\u001b[0;34m(\u001b[0m\u001b[0myvalues\u001b[0m\u001b[0;34m)\u001b[0m\u001b[0;34m\u001b[0m\u001b[0;34m\u001b[0m\u001b[0m\n\u001b[0m\u001b[1;32m    183\u001b[0m     \u001b[0mvalid\u001b[0m \u001b[0;34m=\u001b[0m \u001b[0;34m~\u001b[0m\u001b[0minvalid\u001b[0m\u001b[0;34m\u001b[0m\u001b[0;34m\u001b[0m\u001b[0m\n\u001b[1;32m    184\u001b[0m \u001b[0;34m\u001b[0m\u001b[0m\n",
      "\u001b[0;32m~/Networks/networks/lib/python3.6/site-packages/pandas/core/dtypes/missing.py\u001b[0m in \u001b[0;36misna\u001b[0;34m(obj)\u001b[0m\n\u001b[1;32m    124\u001b[0m     \u001b[0mName\u001b[0m\u001b[0;34m:\u001b[0m \u001b[0;36m1\u001b[0m\u001b[0;34m,\u001b[0m \u001b[0mdtype\u001b[0m\u001b[0;34m:\u001b[0m \u001b[0mbool\u001b[0m\u001b[0;34m\u001b[0m\u001b[0;34m\u001b[0m\u001b[0m\n\u001b[1;32m    125\u001b[0m     \"\"\"\n\u001b[0;32m--> 126\u001b[0;31m     \u001b[0;32mreturn\u001b[0m \u001b[0m_isna\u001b[0m\u001b[0;34m(\u001b[0m\u001b[0mobj\u001b[0m\u001b[0;34m)\u001b[0m\u001b[0;34m\u001b[0m\u001b[0;34m\u001b[0m\u001b[0m\n\u001b[0m\u001b[1;32m    127\u001b[0m \u001b[0;34m\u001b[0m\u001b[0m\n\u001b[1;32m    128\u001b[0m \u001b[0;34m\u001b[0m\u001b[0m\n",
      "\u001b[0;32m~/Networks/networks/lib/python3.6/site-packages/pandas/core/dtypes/missing.py\u001b[0m in \u001b[0;36m_isna_new\u001b[0;34m(obj)\u001b[0m\n\u001b[1;32m    142\u001b[0m         \u001b[0mobj\u001b[0m\u001b[0;34m,\u001b[0m\u001b[0;34m\u001b[0m\u001b[0;34m\u001b[0m\u001b[0m\n\u001b[1;32m    143\u001b[0m         (\n\u001b[0;32m--> 144\u001b[0;31m             \u001b[0mABCSeries\u001b[0m\u001b[0;34m,\u001b[0m\u001b[0;34m\u001b[0m\u001b[0;34m\u001b[0m\u001b[0m\n\u001b[0m\u001b[1;32m    145\u001b[0m             \u001b[0mnp\u001b[0m\u001b[0;34m.\u001b[0m\u001b[0mndarray\u001b[0m\u001b[0;34m,\u001b[0m\u001b[0;34m\u001b[0m\u001b[0;34m\u001b[0m\u001b[0m\n\u001b[1;32m    146\u001b[0m             \u001b[0mABCIndexClass\u001b[0m\u001b[0;34m,\u001b[0m\u001b[0;34m\u001b[0m\u001b[0;34m\u001b[0m\u001b[0m\n",
      "\u001b[0;31mKeyboardInterrupt\u001b[0m: "
     ]
    }
   ],
   "source": [
    "# With current testing and social distancing throughout\n",
    "numNodes = S5['total_pop']\n",
    "G_normal, G_relaxed, G_Quarantine = gen_graphs(numNodes, np.log(S5['total_pop']))\n",
    "\n",
    "final = []\n",
    "initI = I\n",
    "theta_E = Et[0]\n",
    "theta_I = It[0]\n",
    "mf = 1\n",
    "checkpoints  =  {'t': [15,25,50],\n",
    "                   'theta_E': Et[1:],\n",
    "                   'theta_I': It[1:],\n",
    "                 'G': [G_relaxed,G_Quarantine,G_Quarantine]\n",
    "                      }\n",
    "\n",
    "temp = monte(numNodes,initI=initI,theta_E = theta_E, theta_I = theta_I ,mf=mf, checkpoints=checkpoints, G = G_normal, sim=sim);"
   ]
  },
  {
   "cell_type": "code",
   "execution_count": null,
   "metadata": {},
   "outputs": [],
   "source": [
    "title = 'Region 1 - 5000 Population Cases'\n",
    "\n",
    "plt.title(title)\n",
    "\n",
    "dfa_DI = temp[1]\n",
    "cumu = get_three_tuple(dfa_DI)\n",
    "\n",
    "plt.xlabel('Dates')\n",
    "plt.xticks(rotation=45)\n",
    "plt.ylabel('Percent Population')\n",
    "plt.plot(dfa_DI.index, cumu[:,1], 'b', label='Detected Cases')\n",
    "plt.fill_between(\n",
    "    dfa_DI.index,\n",
    "    cumu[:,0],\n",
    "    cumu[:,2],\n",
    "     color='b', alpha=.1, label='95% CI (Detected)'\n",
    "    )\n",
    "plt.scatter(\n",
    "    list(dfa_DI.index)[:date_length],\n",
    "    S5_ts,\n",
    "    c='r', label='Detected Cases (Ground Truth)'\n",
    ")\n",
    "\n",
    "plt.legend()\n",
    "\n",
    "plt.savefig('simu_det_plots/'+title+'.pdf')"
   ]
  },
  {
   "cell_type": "code",
   "execution_count": null,
   "metadata": {},
   "outputs": [],
   "source": [
    "coeff = (S10['total_pop']*np.log(S10['total_pop'])*S5['area']*S5['F(S)']**2)/(S5['total_pop']*np.log(S5['total_pop'])*S10['area']*S10['F(S)']**2)"
   ]
  },
  {
   "cell_type": "code",
   "execution_count": null,
   "metadata": {
    "scrolled": true
   },
   "outputs": [],
   "source": [
    "# With current testing and social distancing throughout\n",
    "numNodes = S10['total_pop']\n",
    "G_normal, G_relaxed, G_Quarantine = gen_graphs(numNodes, coeff*np.log(S5['total_pop']))\n",
    "\n",
    "final = []\n",
    "initI = int(I*coeff)\n",
    "theta_E = Et[0]\n",
    "theta_I = It[0]\n",
    "mf = 1\n",
    "checkpoints  =  {'t': [15,25,50],\n",
    "                   'theta_E': Et[1:],\n",
    "                   'theta_I': It[1:],\n",
    "                 'G': [G_relaxed,G_Quarantine,G_Quarantine]\n",
    "                      }\n",
    "\n",
    "temp = monte(numNodes,initI=initI,theta_E = theta_E, theta_I = theta_I ,mf=mf, checkpoints=checkpoints, G = G_normal, sim=sim);"
   ]
  },
  {
   "cell_type": "code",
   "execution_count": null,
   "metadata": {},
   "outputs": [],
   "source": [
    "title = 'Region 1 - 10000 Population Cases'\n",
    "\n",
    "plt.title(title)\n",
    "\n",
    "dfa_DI = temp[1]\n",
    "cumu = get_three_tuple(dfa_DI)\n",
    "\n",
    "plt.xlabel('Dates')\n",
    "plt.xticks(rotation=45)\n",
    "plt.ylabel('Percent Population')\n",
    "plt.plot(dfa_DI.index, cumu[:,1], 'b', label='Detected Cases')\n",
    "plt.fill_between(\n",
    "    dfa_DI.index,\n",
    "    cumu[:,0],\n",
    "    cumu[:,2],\n",
    "     color='b', alpha=.1, label='95% CI (Detected)'\n",
    "    )\n",
    "plt.scatter(\n",
    "    list(dfa_DI.index)[:date_length],\n",
    "    S10_ts,\n",
    "    c='r', label='Detected Cases (Ground Truth)'\n",
    ")\n",
    "\n",
    "plt.legend()\n",
    "\n",
    "plt.savefig('simu_det_plots/'+title+'.pdf')"
   ]
  },
  {
   "cell_type": "code",
   "execution_count": null,
   "metadata": {},
   "outputs": [],
   "source": [
    "coeff = (S20['total_pop']*np.log(S20['total_pop'])*S5['area']*S5['F(S)']**2)/(S5['total_pop']*np.log(S5['total_pop'])*S20['area']*S20['F(S)']**2)"
   ]
  },
  {
   "cell_type": "code",
   "execution_count": null,
   "metadata": {
    "scrolled": true
   },
   "outputs": [],
   "source": [
    "# With current testing and social distancing throughout\n",
    "numNodes = S20['total_pop']\n",
    "G_normal, G_relaxed, G_Quarantine = gen_graphs(numNodes, coeff*np.log(S5['total_pop']))\n",
    "\n",
    "\n",
    "final = []\n",
    "initI = int(I*coeff)\n",
    "theta_E = Et[0]\n",
    "theta_I = It[0]\n",
    "mf = 1\n",
    "checkpoints  =  {'t': [15,25,50],\n",
    "                   'theta_E': Et[1:],\n",
    "                   'theta_I': It[1:],\n",
    "                 'G': [G_relaxed,G_Quarantine,G_Quarantine]\n",
    "                      }\n",
    "\n",
    "temp = monte(numNodes,initI=initI,theta_E = theta_E, theta_I = theta_I ,mf=mf, checkpoints=checkpoints, G = G_normal, sim=sim);"
   ]
  },
  {
   "cell_type": "code",
   "execution_count": null,
   "metadata": {},
   "outputs": [],
   "source": [
    "title = 'Region 1 - 20000 Population Cases'\n",
    "\n",
    "plt.title(title)\n",
    "\n",
    "dfa_DI = temp[1]\n",
    "cumu = get_three_tuple(dfa_DI)\n",
    "\n",
    "plt.xlabel('Dates')\n",
    "plt.xticks(rotation=45)\n",
    "plt.ylabel('Percent Population')\n",
    "plt.plot(dfa_DI.index, cumu[:,1], 'b', label='Detected Cases')\n",
    "plt.fill_between(\n",
    "    dfa_DI.index,\n",
    "    cumu[:,0],\n",
    "    cumu[:,2],\n",
    "     color='b', alpha=.1, label='95% CI (Detected)'\n",
    "    )\n",
    "plt.scatter(\n",
    "    list(dfa_DI.index)[:date_length],\n",
    "    S20_ts,\n",
    "    c='r', label='Detected Cases (Ground Truth)'\n",
    ")\n",
    "\n",
    "plt.legend()\n",
    "\n",
    "plt.savefig('simu_det_plots/'+title+'.pdf')"
   ]
  },
  {
   "cell_type": "code",
   "execution_count": null,
   "metadata": {},
   "outputs": [],
   "source": []
  },
  {
   "cell_type": "code",
   "execution_count": null,
   "metadata": {},
   "outputs": [],
   "source": [
    "with open('region_sim2.p','rb') as fp:\n",
    "    S5,S10,S20 = pickle.load(fp)"
   ]
  },
  {
   "cell_type": "code",
   "execution_count": null,
   "metadata": {},
   "outputs": [],
   "source": [
    "date_length = len(S10['timeseries'][15:])\n",
    "S5_ts = np.array([float(j[1])*100.0/S5['total_pop'] for j in S5['timeseries'][15:]])-np.array([float(j[1])*100.0/S5['total_pop'] for j in S5['timeseries'][14:-1]])\n",
    "S10_ts = np.array([float(j[1])*100.0/S10['total_pop'] for j in S10['timeseries'][15:]])-np.array([float(j[1])*100.0/S10['total_pop'] for j in S10['timeseries'][14:-1]])\n",
    "S20_ts = np.array([float(j[1])*100.0/S20['total_pop'] for j in S20['timeseries'][15:]])-np.array([float(j[1])*100.0/S20['total_pop'] for j in S20['timeseries'][14:-1]])\n",
    "\n",
    "I = 3\n",
    "Et = [0.000, 0.0000,0.0002,0.0002]\n",
    "It = [0.0001, 0.0003, 0.0009, 0.004]\n",
    "sim = 1000"
   ]
  },
  {
   "cell_type": "code",
   "execution_count": null,
   "metadata": {
    "scrolled": true
   },
   "outputs": [],
   "source": [
    "# With current testing and social distancing throughout\n",
    "numNodes = S5['total_pop']\n",
    "G_normal, G_relaxed, G_Quarantine = gen_graphs(numNodes, np.log(S5['total_pop']))\n",
    "\n",
    "final = []\n",
    "initI = I\n",
    "theta_E = Et[0]\n",
    "theta_I = It[0]\n",
    "mf = 1\n",
    "checkpoints  =  {'t': [15,25,50],\n",
    "                   'theta_E': Et[1:],\n",
    "                   'theta_I': It[1:],\n",
    "                 'G': [G_relaxed,G_Quarantine,G_Quarantine]\n",
    "                      }\n",
    "\n",
    "temp = monte(numNodes,initI=initI,theta_E = theta_E, theta_I = theta_I ,mf=mf, checkpoints=checkpoints, G = G_normal, sim=sim);"
   ]
  },
  {
   "cell_type": "code",
   "execution_count": null,
   "metadata": {},
   "outputs": [],
   "source": [
    "title = 'Region 2 - 5000 Population Cases'\n",
    "\n",
    "plt.title(title)\n",
    "\n",
    "dfa_DI = temp[1]\n",
    "cumu = get_three_tuple(dfa_DI)\n",
    "\n",
    "plt.xlabel('Dates')\n",
    "plt.xticks(rotation=45)\n",
    "plt.ylabel('Percent Population')\n",
    "plt.plot(dfa_DI.index, cumu[:,1], 'b', label='Detected Cases')\n",
    "plt.fill_between(\n",
    "    dfa_DI.index,\n",
    "    cumu[:,0],\n",
    "    cumu[:,2],\n",
    "     color='b', alpha=.1, label='95% CI (Detected)'\n",
    "    )\n",
    "plt.scatter(\n",
    "    list(dfa_DI.index)[:date_length],\n",
    "    S5_ts,\n",
    "    c='r', label='Detected Cases (Ground Truth)'\n",
    ")\n",
    "\n",
    "plt.legend()\n",
    "\n",
    "plt.savefig('simu_det_plots/'+title+'.pdf')"
   ]
  },
  {
   "cell_type": "code",
   "execution_count": null,
   "metadata": {},
   "outputs": [],
   "source": [
    "coeff = (S10['total_pop']*np.log(S10['total_pop'])*S5['area']*S5['F(S)']**2)/(S5['total_pop']*np.log(S5['total_pop'])*S10['area']*S10['F(S)']**2)"
   ]
  },
  {
   "cell_type": "code",
   "execution_count": null,
   "metadata": {
    "scrolled": true
   },
   "outputs": [],
   "source": [
    "# With current testing and social distancing throughout\n",
    "numNodes = S10['total_pop']\n",
    "G_normal, G_relaxed, G_Quarantine = gen_graphs(numNodes, coeff*np.log(S5['total_pop']))\n",
    "\n",
    "final = []\n",
    "initI = int(I*coeff)\n",
    "theta_E = Et[0]\n",
    "theta_I = It[0]\n",
    "mf = 1\n",
    "checkpoints  =  {'t': [15,25,50],\n",
    "                   'theta_E': Et[1:],\n",
    "                   'theta_I': It[1:],\n",
    "                 'G': [G_relaxed,G_Quarantine,G_Quarantine]\n",
    "                      }\n",
    "\n",
    "temp = monte(numNodes,initI=initI,theta_E = theta_E, theta_I = theta_I ,mf=mf, checkpoints=checkpoints, G = G_normal, sim=sim);"
   ]
  },
  {
   "cell_type": "code",
   "execution_count": null,
   "metadata": {},
   "outputs": [],
   "source": [
    "title = 'Region 2 - 10000 Population Cases'\n",
    "\n",
    "plt.title(title)\n",
    "\n",
    "dfa_DI = temp[1]\n",
    "cumu = get_three_tuple(dfa_DI)\n",
    "\n",
    "plt.xlabel('Dates')\n",
    "plt.xticks(rotation=45)\n",
    "plt.ylabel('Percent Population')\n",
    "plt.plot(dfa_DI.index, cumu[:,1], 'b', label='Detected Cases')\n",
    "plt.fill_between(\n",
    "    dfa_DI.index,\n",
    "    cumu[:,0],\n",
    "    cumu[:,2],\n",
    "     color='b', alpha=.1, label='95% CI (Detected)'\n",
    "    )\n",
    "plt.scatter(\n",
    "    list(dfa_DI.index)[:date_length],\n",
    "    S10_ts,\n",
    "    c='r', label='Detected Cases (Ground Truth)'\n",
    ")\n",
    "\n",
    "plt.legend()\n",
    "\n",
    "plt.savefig('simu_det_plots/'+title+'.pdf')"
   ]
  },
  {
   "cell_type": "code",
   "execution_count": null,
   "metadata": {},
   "outputs": [],
   "source": [
    "coeff = (S20['total_pop']*np.log(S20['total_pop'])*S5['area']*S5['F(S)']**2)/(S5['total_pop']*np.log(S5['total_pop'])*S20['area']*S20['F(S)']**2)"
   ]
  },
  {
   "cell_type": "code",
   "execution_count": null,
   "metadata": {
    "scrolled": true
   },
   "outputs": [],
   "source": [
    "# With current testing and social distancing throughout\n",
    "numNodes = S20['total_pop']\n",
    "G_normal, G_relaxed, G_Quarantine = gen_graphs(numNodes, coeff*np.log(S5['total_pop']))\n",
    "\n",
    "\n",
    "final = []\n",
    "initI = int(I*coeff)\n",
    "theta_E = Et[0]\n",
    "theta_I = It[0]\n",
    "mf = 1\n",
    "checkpoints  =  {'t': [15,25,50],\n",
    "                   'theta_E': Et[1:],\n",
    "                   'theta_I': It[1:],\n",
    "                 'G': [G_relaxed,G_Quarantine,G_Quarantine]\n",
    "                      }\n",
    "\n",
    "temp = monte(numNodes,initI=initI,theta_E = theta_E, theta_I = theta_I ,mf=mf, checkpoints=checkpoints, G = G_normal, sim=sim);"
   ]
  },
  {
   "cell_type": "code",
   "execution_count": null,
   "metadata": {},
   "outputs": [],
   "source": [
    "title = 'Region 2 - 20000 Population Cases'\n",
    "\n",
    "plt.title(title)\n",
    "\n",
    "dfa_DI = temp[1]\n",
    "cumu = get_three_tuple(dfa_DI)\n",
    "\n",
    "plt.xlabel('Dates')\n",
    "plt.xticks(rotation=45)\n",
    "plt.ylabel('Percent Population')\n",
    "plt.plot(dfa_DI.index, cumu[:,1], 'b', label='Detected Cases')\n",
    "plt.fill_between(\n",
    "    dfa_DI.index,\n",
    "    cumu[:,0],\n",
    "    cumu[:,2],\n",
    "     color='b', alpha=.1, label='95% CI (Detected)'\n",
    "    )\n",
    "plt.scatter(\n",
    "    list(dfa_DI.index)[:date_length],\n",
    "    S20_ts,\n",
    "    c='r', label='Detected Cases (Ground Truth)'\n",
    ")\n",
    "\n",
    "plt.legend()\n",
    "\n",
    "plt.savefig('simu_det_plots/'+title+'.pdf')"
   ]
  },
  {
   "cell_type": "code",
   "execution_count": null,
   "metadata": {},
   "outputs": [],
   "source": []
  },
  {
   "cell_type": "code",
   "execution_count": 20,
   "metadata": {},
   "outputs": [],
   "source": [
    "with open('region_sim3.p','rb') as fp:\n",
    "    S5,S10,S20 = pickle.load(fp)"
   ]
  },
  {
   "cell_type": "code",
   "execution_count": null,
   "metadata": {},
   "outputs": [],
   "source": [
    "datedate_length = len(S10['timeseries'][15:])\n",
    "S5_ts = np.array([float(j[1])*100.0/S5['total_pop'] for j in S5['timeseries'][15:]])-np.array([float(j[1])*100.0/S5['total_pop'] for j in S5['timeseries'][14:-1]])\n",
    "S10_ts = np.array([float(j[1])*100.0/S10['total_pop'] for j in S10['timeseries'][15:]])-np.array([float(j[1])*100.0/S10['total_pop'] for j in S10['timeseries'][14:-1]])\n",
    "S20_ts = np.array([float(j[1])*100.0/S20['total_pop'] for j in S20['timeseries'][15:]])-np.array([float(j[1])*100.0/S20['total_pop'] for j in S20['timeseries'][14:-1]])\n",
    "\n",
    "I = 3\n",
    "Et = [0.000, 0.0000,0.0002,0.0002]\n",
    "It = [0.0001, 0.00054, 0.001, 0.004]\n",
    "sim = 1000"
   ]
  },
  {
   "cell_type": "code",
   "execution_count": null,
   "metadata": {
    "scrolled": true
   },
   "outputs": [],
   "source": [
    "# With current testing and social distancing throughout\n",
    "numNodes = S5['total_pop']\n",
    "G_normal, G_relaxed, G_Quarantine = gen_graphs(numNodes, np.log(S5['total_pop']))\n",
    "\n",
    "final = []\n",
    "initI = I\n",
    "theta_E = Et[0]\n",
    "theta_I = It[0]\n",
    "mf = 1\n",
    "checkpoints  =  {'t': [15,25,50],\n",
    "                   'theta_E': Et[1:],\n",
    "                   'theta_I': It[1:],\n",
    "                 'G': [G_relaxed,G_Quarantine,G_Quarantine]\n",
    "                      }\n",
    "\n",
    "temp = monte(numNodes,initI=initI,theta_E = theta_E, theta_I = theta_I ,mf=mf, checkpoints=checkpoints, G = G_normal, sim=sim);"
   ]
  },
  {
   "cell_type": "code",
   "execution_count": null,
   "metadata": {},
   "outputs": [],
   "source": [
    "title = 'Region 3 - 5000 Population Cases'\n",
    "\n",
    "plt.title(title)\n",
    "\n",
    "dfa_DI = temp[1]\n",
    "cumu = get_three_tuple(dfa_DI)\n",
    "\n",
    "plt.xlabel('Dates')\n",
    "plt.xticks(rotation=45)\n",
    "plt.ylabel('Percent Population')\n",
    "plt.plot(dfa_DI.index, cumu[:,1], 'b', label='Detected Cases')\n",
    "plt.fill_between(\n",
    "    dfa_DI.index,\n",
    "    cumu[:,0],\n",
    "    cumu[:,2],\n",
    "     color='b', alpha=.1, label='95% CI (Detected)'\n",
    "    )\n",
    "plt.scatter(\n",
    "    list(dfa_DI.index)[:date_length],\n",
    "    S5_ts,\n",
    "    c='r', label='Detected Cases (Ground Truth)'\n",
    ")\n",
    "\n",
    "plt.legend()\n",
    "\n",
    "plt.savefig('simu_det_plots/'+title+'.pdf')"
   ]
  },
  {
   "cell_type": "code",
   "execution_count": null,
   "metadata": {},
   "outputs": [],
   "source": [
    "coeff = (S10['total_pop']*np.log(S10['total_pop'])*S5['area']*S5['F(S)']**2)/(S5['total_pop']*np.log(S5['total_pop'])*S10['area']*S10['F(S)']**2)"
   ]
  },
  {
   "cell_type": "code",
   "execution_count": null,
   "metadata": {
    "scrolled": true
   },
   "outputs": [],
   "source": [
    "# With current testing and social distancing throughout\n",
    "numNodes = S10['total_pop']\n",
    "G_normal, G_relaxed, G_Quarantine = gen_graphs(numNodes, coeff*np.log(S5['total_pop']))\n",
    "\n",
    "final = []\n",
    "initI = int(I*coeff)\n",
    "theta_E = Et[0]\n",
    "theta_I = It[0]\n",
    "mf = 1\n",
    "checkpoints  =  {'t': [15,25,50],\n",
    "                   'theta_E': Et[1:],\n",
    "                   'theta_I': It[1:],\n",
    "                 'G': [G_relaxed,G_Quarantine,G_Quarantine]\n",
    "                      }\n",
    "\n",
    "temp = monte(numNodes,initI=initI,theta_E = theta_E, theta_I = theta_I ,mf=mf, checkpoints=checkpoints, G = G_normal, sim=sim);"
   ]
  },
  {
   "cell_type": "code",
   "execution_count": null,
   "metadata": {},
   "outputs": [],
   "source": [
    "title = 'Region 3 - 10000 Population Cases'\n",
    "\n",
    "plt.title(title)\n",
    "\n",
    "dfa_DI = temp[1]\n",
    "cumu = get_three_tuple(dfa_DI)\n",
    "\n",
    "plt.xlabel('Dates')\n",
    "plt.xticks(rotation=45)\n",
    "plt.ylabel('Percent Population')\n",
    "plt.plot(dfa_DI.index, cumu[:,1], 'b', label='Detected Cases')\n",
    "plt.fill_between(\n",
    "    dfa_DI.index,\n",
    "    cumu[:,0],\n",
    "    cumu[:,2],\n",
    "     color='b', alpha=.1, label='95% CI (Detected)'\n",
    "    )\n",
    "plt.scatter(\n",
    "    list(dfa_DI.index)[:date_length],\n",
    "    S10_ts,\n",
    "    c='r', label='Detected Cases (Ground Truth)'\n",
    ")\n",
    "\n",
    "plt.legend()\n",
    "\n",
    "plt.savefig('simu_det_plots/'+title+'.pdf')"
   ]
  },
  {
   "cell_type": "code",
   "execution_count": null,
   "metadata": {},
   "outputs": [],
   "source": [
    "coeff = (S20['total_pop']*np.log(S20['total_pop'])*S5['area']*S5['F(S)']**2)/(S5['total_pop']*np.log(S5['total_pop'])*S20['area']*S20['F(S)']**2)"
   ]
  },
  {
   "cell_type": "code",
   "execution_count": null,
   "metadata": {
    "scrolled": true
   },
   "outputs": [],
   "source": [
    "# With current testing and social distancing throughout\n",
    "numNodes = S20['total_pop']\n",
    "G_normal, G_relaxed, G_Quarantine = gen_graphs(numNodes, coeff*np.log(S5['total_pop']))\n",
    "\n",
    "\n",
    "final = []\n",
    "initI = int(I*coeff)\n",
    "theta_E = Et[0]\n",
    "theta_I = It[0]\n",
    "mf = 1\n",
    "checkpoints  =  {'t': [15,25,50],\n",
    "                   'theta_E': Et[1:],\n",
    "                   'theta_I': It[1:],\n",
    "                 'G': [G_relaxed,G_Quarantine,G_Quarantine]\n",
    "                      }\n",
    "\n",
    "temp = monte(numNodes,initI=initI,theta_E = theta_E, theta_I = theta_I ,mf=mf, checkpoints=checkpoints, G = G_normal, sim=sim);"
   ]
  },
  {
   "cell_type": "code",
   "execution_count": null,
   "metadata": {},
   "outputs": [],
   "source": [
    "title = 'Region 3 - 20000 Population Cases'\n",
    "\n",
    "plt.title(title)\n",
    "\n",
    "dfa_DI = temp[1]\n",
    "cumu = get_three_tuple(dfa_DI)\n",
    "\n",
    "plt.xlabel('Dates')\n",
    "plt.xticks(rotation=45)\n",
    "plt.ylabel('Percent Population')\n",
    "plt.plot(dfa_DI.index, cumu[:,1], 'b', label='Detected Cases')\n",
    "plt.fill_between(\n",
    "    dfa_DI.index,\n",
    "    cumu[:,0],\n",
    "    cumu[:,2],\n",
    "     color='b', alpha=.1, label='95% CI (Detected)'\n",
    "    )\n",
    "plt.scatter(\n",
    "    list(dfa_DI.index)[:date_length],\n",
    "    S20_ts,\n",
    "    c='r', label='Detected Cases (Ground Truth)'\n",
    ")\n",
    "\n",
    "plt.legend()\n",
    "\n",
    "plt.savefig('simu_det_plots/'+title+'.pdf')"
   ]
  },
  {
   "cell_type": "code",
   "execution_count": null,
   "metadata": {},
   "outputs": [],
   "source": []
  },
  {
   "cell_type": "code",
   "execution_count": 30,
   "metadata": {},
   "outputs": [],
   "source": [
    "with open('region_sim4.p','rb') as fp:\n",
    "    S5,S10,S20 = pickle.load(fp)"
   ]
  },
  {
   "cell_type": "code",
   "execution_count": 31,
   "metadata": {},
   "outputs": [],
   "source": [
    "date_length = len(S10['timeseries'][15:])\n",
    "S5_ts = np.array([float(j[1])*100.0/S5['total_pop'] for j in S5['timeseries'][15:]])-np.array([float(j[1])*100.0/S5['total_pop'] for j in S5['timeseries'][14:-1]])\n",
    "S10_ts = np.array([float(j[1])*100.0/S10['total_pop'] for j in S10['timeseries'][15:]])-np.array([float(j[1])*100.0/S10['total_pop'] for j in S10['timeseries'][14:-1]])\n",
    "S20_ts = np.array([float(j[1])*100.0/S20['total_pop'] for j in S20['timeseries'][15:]])-np.array([float(j[1])*100.0/S20['total_pop'] for j in S20['timeseries'][14:-1]])\n",
    "\n",
    "I = 2\n",
    "Et = [0.000, 0.0000,0.0002,0.0002]\n",
    "It = [0.00002, 0.00065, 0.0013, 0.004]\n",
    "sim = 1000"
   ]
  },
  {
   "cell_type": "code",
   "execution_count": 32,
   "metadata": {
    "scrolled": true
   },
   "outputs": [],
   "source": [
    "# With current testing and social distancing throughout\n",
    "numNodes = S5['total_pop']\n",
    "G_normal, G_relaxed, G_Quarantine = gen_graphs(numNodes, np.log(S5['total_pop']))\n",
    "\n",
    "final = []\n",
    "initI = I\n",
    "theta_E = Et[0]\n",
    "theta_I = It[0]\n",
    "mf = 1\n",
    "checkpoints  =  {'t': [15,25,50],\n",
    "                   'theta_E': Et[1:],\n",
    "                   'theta_I': It[1:],\n",
    "                 'G': [G_relaxed,G_Quarantine,G_Quarantine]\n",
    "                      }\n",
    "\n",
    "temp = monte(numNodes,initI=initI,theta_E = theta_E, theta_I = theta_I ,mf=mf, checkpoints=checkpoints, G = G_normal, sim=sim);"
   ]
  },
  {
   "cell_type": "code",
   "execution_count": 33,
   "metadata": {},
   "outputs": [
    {
     "data": {
      "image/png": "[encoded data removed]",
      "text/plain": [
       "<Figure size 1080x576 with 1 Axes>"
      ]
     },
     "metadata": {
      "needs_background": "light"
     },
     "output_type": "display_data"
    }
   ],
   "source": [
    "title = 'Region 4 - 5000 Population Cases'\n",
    "\n",
    "plt.title(title)\n",
    "\n",
    "dfa_DI = temp[1]\n",
    "cumu = get_three_tuple(dfa_DI)\n",
    "\n",
    "plt.xlabel('Dates')\n",
    "plt.xticks(rotation=45)\n",
    "plt.ylabel('Percent Population')\n",
    "plt.plot(dfa_DI.index, cumu[:,1], 'b', label='Detected Cases')\n",
    "plt.fill_between(\n",
    "    dfa_DI.index,\n",
    "    cumu[:,0],\n",
    "    cumu[:,2],\n",
    "     color='b', alpha=.1, label='95% CI (Detected)'\n",
    "    )\n",
    "plt.scatter(\n",
    "    list(dfa_DI.index)[:date_length],\n",
    "    S5_ts,\n",
    "    c='r', label='Detected Cases (Ground Truth)'\n",
    ")\n",
    "\n",
    "plt.legend()\n",
    "\n",
    "plt.savefig('simu_det_plots/'+title+'.pdf')"
   ]
  },
  {
   "cell_type": "code",
   "execution_count": 34,
   "metadata": {},
   "outputs": [],
   "source": [
    "coeff = (S10['total_pop']*np.log(S10['total_pop'])*S5['area']*S5['F(S)']**2)/(S5['total_pop']*np.log(S5['total_pop'])*S10['area']*S10['F(S)']**2)"
   ]
  },
  {
   "cell_type": "code",
   "execution_count": 35,
   "metadata": {
    "scrolled": true
   },
   "outputs": [],
   "source": [
    "# With current testing and social distancing throughout\n",
    "numNodes = S10['total_pop']\n",
    "G_normal, G_relaxed, G_Quarantine = gen_graphs(numNodes, coeff*np.log(S5['total_pop']))\n",
    "\n",
    "final = []\n",
    "initI = int(I*coeff)\n",
    "theta_E = Et[0]\n",
    "theta_I = It[0]\n",
    "mf = 1\n",
    "checkpoints  =  {'t': [15,25,50],\n",
    "                   'theta_E': Et[1:],\n",
    "                   'theta_I': It[1:],\n",
    "                 'G': [G_relaxed,G_Quarantine,G_Quarantine]\n",
    "                      }\n",
    "\n",
    "temp = monte(numNodes,initI=initI,theta_E = theta_E, theta_I = theta_I ,mf=mf, checkpoints=checkpoints, G = G_normal, sim=sim);"
   ]
  },
  {
   "cell_type": "code",
   "execution_count": 36,
   "metadata": {},
   "outputs": [
    {
     "data": {
      "image/png": "[encoded data removed]",
      "text/plain": [
       "<Figure size 1080x576 with 1 Axes>"
      ]
     },
     "metadata": {
      "needs_background": "light"
     },
     "output_type": "display_data"
    }
   ],
   "source": [
    "title = 'Region 4 - 10000 Population Cases'\n",
    "\n",
    "plt.title(title)\n",
    "\n",
    "dfa_DI = temp[1]\n",
    "cumu = get_three_tuple(dfa_DI)\n",
    "\n",
    "plt.xlabel('Dates')\n",
    "plt.xticks(rotation=45)\n",
    "plt.ylabel('Percent Population')\n",
    "plt.plot(dfa_DI.index, cumu[:,1], 'b', label='Detected Cases')\n",
    "plt.fill_between(\n",
    "    dfa_DI.index,\n",
    "    cumu[:,0],\n",
    "    cumu[:,2],\n",
    "     color='b', alpha=.1, label='95% CI (Detected)'\n",
    "    )\n",
    "plt.scatter(\n",
    "    list(dfa_DI.index)[:date_length],\n",
    "    S10_ts,\n",
    "    c='r', label='Detected Cases (Ground Truth)'\n",
    ")\n",
    "\n",
    "plt.legend()\n",
    "\n",
    "plt.savefig('simu_det_plots/'+title+'.pdf')"
   ]
  },
  {
   "cell_type": "code",
   "execution_count": 37,
   "metadata": {},
   "outputs": [],
   "source": [
    "coeff = (S20['total_pop']*np.log(S20['total_pop'])*S5['area']*S5['F(S)']**2)/(S5['total_pop']*np.log(S5['total_pop'])*S20['area']*S20['F(S)']**2)"
   ]
  },
  {
   "cell_type": "code",
   "execution_count": null,
   "metadata": {
    "scrolled": true
   },
   "outputs": [],
   "source": [
    "# With current testing and social distancing throughout\n",
    "numNodes = S20['total_pop']\n",
    "G_normal, G_relaxed, G_Quarantine = gen_graphs(numNodes, coeff*np.log(S5['total_pop']))\n",
    "\n",
    "\n",
    "final = []\n",
    "initI = int(I*coeff)\n",
    "theta_E = Et[0]\n",
    "theta_I = It[0]\n",
    "mf = 1\n",
    "checkpoints  =  {'t': [15,25,50],\n",
    "                   'theta_E': Et[1:],\n",
    "                   'theta_I': It[1:],\n",
    "                 'G': [G_relaxed,G_Quarantine,G_Quarantine]\n",
    "                      }\n",
    "\n",
    "temp = monte(numNodes,initI=initI,theta_E = theta_E, theta_I = theta_I ,mf=mf, checkpoints=checkpoints, G = G_normal, sim=sim);"
   ]
  },
  {
   "cell_type": "code",
   "execution_count": null,
   "metadata": {},
   "outputs": [],
   "source": [
    "title = 'Region 4 - 20000 Population Cases'\n",
    "\n",
    "plt.title(title)\n",
    "\n",
    "dfa_DI = temp[1]\n",
    "cumu = get_three_tuple(dfa_DI)\n",
    "\n",
    "plt.xlabel('Dates')\n",
    "plt.xticks(rotation=45)\n",
    "plt.ylabel('Percent Population')\n",
    "plt.plot(dfa_DI.index, cumu[:,1], 'b', label='Detected Cases')\n",
    "plt.fill_between(\n",
    "    dfa_DI.index,\n",
    "    cumu[:,0],\n",
    "    cumu[:,2],\n",
    "     color='b', alpha=.1, label='95% CI (Detected)'\n",
    "    )\n",
    "plt.scatter(\n",
    "    list(dfa_DI.index)[:date_length],\n",
    "    S20_ts,\n",
    "    c='r', label='Detected Cases (Ground Truth)'\n",
    ")\n",
    "\n",
    "plt.legend()\n",
    "\n",
    "plt.savefig('simu_det_plots/'+title+'.pdf')"
   ]
  },
  {
   "cell_type": "code",
   "execution_count": null,
   "metadata": {},
   "outputs": [],
   "source": []
  }
 ],
 "metadata": {
  "kernelspec": {
   "display_name": "Python 3",
   "language": "python",
   "name": "python3"
  },
  "language_info": {
   "codemirror_mode": {
    "name": "ipython",
    "version": 3
   },
   "file_extension": ".py",
   "mimetype": "text/x-python",
   "name": "python",
   "nbconvert_exporter": "python",
   "pygments_lexer": "ipython3",
   "version": "3.6.9"
  }
 },
 "nbformat": 4,
 "nbformat_minor": 4
}
