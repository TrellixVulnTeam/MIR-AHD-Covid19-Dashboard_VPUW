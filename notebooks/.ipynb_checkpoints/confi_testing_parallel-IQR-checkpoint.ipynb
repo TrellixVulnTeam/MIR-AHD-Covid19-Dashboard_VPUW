{
 "cells": [
  {
   "cell_type": "code",
   "execution_count": 1,
   "metadata": {},
   "outputs": [],
   "source": [
    "from seirsplus.models import *\n",
    "import networkx as nx\n",
    "import matplotlib.pyplot as plt\n",
    "import numpy as np\n",
    "import pandas as pd\n",
    "import math\n",
    "import json\n",
    "import  pickle\n",
    "from shapely.geometry import Polygon, Point, MultiPoint\n",
    "from scipy.spatial import ConvexHull\n",
    "from dateutil import parser\n",
    "\n",
    "from multiprocessing import Pool, freeze_support\n",
    "\n",
    "%matplotlib inline"
   ]
  },
  {
   "cell_type": "code",
   "execution_count": 2,
   "metadata": {},
   "outputs": [],
   "source": [
    "# Below section for creating graphs and monte carlo simul\n",
    "\n",
    "def get_three_tuple(df):\n",
    "    arr = []\n",
    "    for row in df.iterrows():\n",
    "        v1 = np.percentile(row[1], 25)\n",
    "        v2 = np.percentile(row[1], 50)\n",
    "        v3 = np.percentile(row[1], 75)\n",
    "        arr.append(np.array([v1,v2,v3]))\n",
    "    return np.array(arr)\n",
    "\n",
    "def single_run(model_init, model_run, i):\n",
    "    model = SEIRSNetworkModel(**model_init)\n",
    "    model.run(**model_run)\n",
    "    time=pd.to_datetime(pd.Series(model.tseries),unit='d',origin='2020-04-01')   \n",
    "    \n",
    "    df_tempI=pd.DataFrame({'t':time, i:model.numI})\n",
    "    df_tempI.set_index('t',inplace=True)\n",
    "    df_tempI['t']=df_tempI.index.date\n",
    "    df_tempI.reset_index(drop=True,inplace=True)\n",
    "    df_tempI.set_index('t',inplace=True)\n",
    "    df_tempI.reset_index(inplace=True)\n",
    "    df_tempI = pd.pivot_table(df_tempI, index='t', aggfunc='mean')\n",
    "\n",
    "    df_tempDI=pd.DataFrame({'t':time, i:model.numD_I})\n",
    "    df_tempDI.set_index('t',inplace=True)\n",
    "    df_tempDI['t']=df_tempDI.index.date\n",
    "    df_tempDI.reset_index(drop=True,inplace=True)\n",
    "    df_tempDI.set_index('t',inplace=True)\n",
    "    df_tempDI.reset_index(inplace=True)\n",
    "    df_tempDI= pd.pivot_table(df_tempDI, index='t', aggfunc='mean')\n",
    "\n",
    "    df_tempR=pd.DataFrame({'t':time, i:model.numR})\n",
    "    df_tempR.set_index('t',inplace=True)\n",
    "    df_tempR['t']=df_tempR.index.date\n",
    "    df_tempR.reset_index(drop=True,inplace=True)\n",
    "    df_tempR.set_index('t',inplace=True)\n",
    "    df_tempR.reset_index(inplace=True)\n",
    "    df_tempR= pd.pivot_table(df_tempR, index='t', aggfunc='mean')\n",
    "\n",
    "    df_tempF=pd.DataFrame({'t':time, i:model.numF})\n",
    "    df_tempF.set_index('t',inplace=True)\n",
    "    df_tempF['t']=df_tempF.index.date\n",
    "    df_tempF.reset_index(drop=True,inplace=True)\n",
    "    df_tempF.set_index('t',inplace=True)\n",
    "    df_tempF.reset_index(inplace=True)\n",
    "    df_tempF= pd.pivot_table(df_tempF, index='t', aggfunc='mean')\n",
    "\n",
    "    return df_tempI, df_tempDI, df_tempR, df_tempF\n",
    "\n",
    "\n",
    "def monte(N, initI,theta_E, theta_I ,mf, checkpoints, G, sim=2, initDI=0):\n",
    "    beta = 0.187\n",
    "    sigma = 1.0/5.2\n",
    "    gamma = 1.0/15\n",
    "    mu_I = 0.004\n",
    "    p = 0.6\n",
    "    Q = None\n",
    "    beta_D = 0.155\n",
    "    sigma_D = 1.0/5.2\n",
    "    mu_D = 0#0.0004\n",
    "    theta_E = theta_E\n",
    "    theta_I = theta_I\n",
    "    phi_E = 0.4\n",
    "    phi_I = 0.8\n",
    "    initN = N\n",
    "    initI = initI\n",
    "    initE = initI*4\n",
    "    initD_E = 0.0\n",
    "    initD_I = initDI\n",
    "    initR = 0\n",
    "    initF = 0\n",
    "    x_i = 0.001\n",
    "    psi_E = 0.04\n",
    "    psi_I = 1\n",
    "    q = 0.3\n",
    "    gamma_D = 0#gamma\n",
    "\n",
    "    # Creating dataframe\n",
    "    time_index=pd.date_range(start='2020-04-01', periods=90)\n",
    "    df_I=pd.DataFrame(index=time_index)\n",
    "    df_DI=pd.DataFrame(index=time_index)\n",
    "    df_R = pd.DataFrame(index=time_index)\n",
    "    df_F = pd.DataFrame(index=time_index)\n",
    "    \n",
    "    model_init = {'G' : G, 'Q' : G_Quarantine, 'beta' : beta, 'sigma' : sigma,\n",
    "                 'gamma' : gamma, 'mu_I' : mu_I, 'beta_D' : beta_D, 'sigma_D' : sigma_D,\n",
    "                 'gamma_D' : gamma_D, 'mu_D' : mu_D, 'theta_E' : theta_E, 'theta_I' : theta_I,\n",
    "                 'phi_E' : phi_E, 'phi_I' : phi_I, 'psi_E' : psi_E, 'psi_I' : psi_I, 'q' : 0.3,\n",
    "                 'initI' : initI, 'initE' : initE, 'initD_E' : initD_E, 'initD_I' : initD_I}\n",
    "    \n",
    "    model_run = {'T':120, 'checkpoints':checkpoints, 'verbose':False}\n",
    "    \n",
    "    pool = Pool(processes = 32)\n",
    "    \n",
    "    results = []\n",
    "    for i in range(1, sim+1):\n",
    "        results.append(pool.apply_async(single_run, args=(model_init, model_run, i)))\n",
    "    \n",
    "    pool.close()\n",
    "    pool.join()\n",
    "\n",
    "    for res in results:\n",
    "        df_l = res.get()\n",
    "        df_I=df_I.merge(df_l[0], how='outer', right_index=True, left_index=True).ffill(axis=0).fillna(np.NaN)        \n",
    "\n",
    "        df_DI=df_DI.merge(df_l[1], how='outer', right_index=True, left_index=True).ffill(axis=0).fillna(np.NaN)        \n",
    "\n",
    "        df_R=df_R.merge(df_l[2], how='outer', right_index=True, left_index=True).ffill(axis=0).fillna(np.NaN)\n",
    "\n",
    "        df_F=df_F.merge(df_l[3], how='outer', right_index=True, left_index=True).ffill(axis=0).fillna(np.NaN)\n",
    "        \n",
    "        df_I =df_I.interpolate(method='linear', limit_direction='forward', axis=0)\n",
    "        df_DI =df_DI.interpolate(method='linear', limit_direction='forward', axis=0)\n",
    "        df_R = df_R.interpolate(method='linear',limit_direction='forward',axis = 0)\n",
    "        df_F = df_F.interpolate(method='linear',limit_direction='forward',axis = 0)\n",
    "\n",
    "    df_I = df_I*100.0/N\n",
    "    df_DI = df_DI*100.0/N\n",
    "    df_R = df_R*100.0/N\n",
    "    df_F = df_F*100.0/N\n",
    "    \n",
    "    return df_I, df_DI, df_R, df_F\n",
    "\n",
    "#     # Changes for looking at actual numbers\n",
    "#     df_Iavg=pd.DataFrame.mean(df_I, axis=1)*100.0/N\n",
    "#     df_DIavg=pd.DataFrame.mean(df_DI, axis=1)*100.0/N\n",
    "#     df_Ravg = pd.DataFrame.mean(df_R, axis = 1)*100.0/N\n",
    "#     df_Favg = pd.DataFrame.mean(df_F, axis = 1)*100.0/N\n",
    "        \n",
    "#     df_Icstd=pd.DataFrame.std(df_I.cumsum(axis=0), axis=1)*100.0/N\n",
    "#     df_DIcstd=pd.DataFrame.std(df_DI.cumsum(axis=0), axis=1)*100.0/N\n",
    "#     df_Rcstd=pd.DataFrame.std(df_R.cumsum(axis=0), axis=1)*100.0/N\n",
    "#     df_Fcstd=pd.DataFrame.std(df_F.cumsum(axis=0), axis=1)*100.0/N\n",
    "\n",
    "#     df_Istd=pd.DataFrame.std(df_I, axis=1)*100.0/N\n",
    "#     df_DIstd=pd.DataFrame.std(df_DI, axis=1)*100.0/N\n",
    "#     df_Rstd=pd.DataFrame.std(df_R, axis=1)*100.0/N\n",
    "#     df_Fstd=pd.DataFrame.std(df_F, axis=1)*100.0/N\n",
    "\n",
    "#     return {\n",
    "#         'df_DI':df_DIavg, 'df_I': df_Iavg,'df_R': df_Ravg, 'df_F':df_Favg,\n",
    "#         'df_Icstd':df_Icstd, 'df_Rcstd':df_Rcstd, 'df_Fcstd': df_Fcstd, 'df_DIcstd':df_DIcstd,\n",
    "#         'df_Istd':df_Istd, 'df_Rstd':df_Rstd, 'df_Fstd': df_Fstd, 'df_DIstd':df_DIstd,\n",
    "#            }"
   ]
  },
  {
   "cell_type": "code",
   "execution_count": 3,
   "metadata": {},
   "outputs": [],
   "source": [
    "def gen_graphs(numNodes, coeff):\n",
    "    G_normal = nx.erdos_renyi_graph(n=numNodes, p = coeff*1.1/numNodes, seed=42, directed=False)\n",
    "    G_relaxed = nx.erdos_renyi_graph(n=numNodes, p = coeff*0.301/numNodes , seed=42, directed=False)\n",
    "    G_Quarantine = nx.erdos_renyi_graph(n=numNodes, p = coeff*0.006/numNodes , seed=42, directed=False)\n",
    "    \n",
    "    return G_normal, G_relaxed, G_Quarantine"
   ]
  },
  {
   "cell_type": "code",
   "execution_count": 4,
   "metadata": {},
   "outputs": [],
   "source": [
    "freeze_support()\n",
    "plt.rcParams['figure.figsize'] = (15, 8)"
   ]
  },
  {
   "cell_type": "code",
   "execution_count": 32,
   "metadata": {},
   "outputs": [],
   "source": [
    "with open('region_sim1.p','rb') as fp:\n",
    "    S5,S10,S20 = pickle.load(fp)"
   ]
  },
  {
   "cell_type": "code",
   "execution_count": 39,
   "metadata": {},
   "outputs": [],
   "source": [
    "I = 25\n",
    "Et = [0.000, 0.0001,0.00016,0.0002]\n",
    "It = [0.0001, 0.0018, 0.004, 0.004]\n",
    "sim = 1000"
   ]
  },
  {
   "cell_type": "code",
   "execution_count": null,
   "metadata": {
    "scrolled": true
   },
   "outputs": [],
   "source": [
    "# With current testing and social distancing throughout\n",
    "numNodes = S5['total_pop']\n",
    "G_normal, G_relaxed, G_Quarantine = gen_graphs(numNodes, np.log(S5['total_pop']))\n",
    "\n",
    "final = []\n",
    "initI = I\n",
    "theta_E = Et[0]\n",
    "theta_I = It[0]\n",
    "mf = 1\n",
    "checkpoints  =  {'t': [15,25,50],\n",
    "                   'theta_E': Et[1:],\n",
    "                   'theta_I': It[1:],\n",
    "                 'G': [G_relaxed,G_Quarantine,G_Quarantine]\n",
    "                      }\n",
    "\n",
    "temp = monte(numNodes,initI=initI,theta_E = theta_E, theta_I = theta_I ,mf=mf, checkpoints=checkpoints, G = G_normal, sim=sim);\n",
    "with open('data/region1_S5c.p', 'wb') as fp:\n",
    "    pickle.dump(temp, fp)\n"
   ]
  },
  {
   "cell_type": "code",
   "execution_count": null,
   "metadata": {},
   "outputs": [],
   "source": [
    "title = 'Region 1 - 5000 Population Cumulative Cases'\n",
    "\n",
    "plt.title(title)\n",
    "\n",
    "dfa_DI = temp[1]\n",
    "cumu = get_three_tuple(dfa_DI)\n",
    "\n",
    "plt.xlabel('Dates')\n",
    "plt.xticks(rotation=45)\n",
    "plt.ylabel('Percent Population')\n",
    "plt.plot(dfa_DI.index, cumu[:,1], label='Total Detected Cases')\n",
    "plt.fill_between(\n",
    "    dfa_DI.index,\n",
    "    cumu[:,0],\n",
    "    cumu[:,2],\n",
    "     color='b', alpha=.1, label='IQR'\n",
    "    )\n",
    "plt.plot(\n",
    "    list(dfa_DI.index)[:len(S10['timeseries'][15:])],\n",
    "    [float(j[1])*100/numNodes for j in S5['timeseries'][15:]],\n",
    "    'r', label='Total Detected Cases (Ground Truth)'\n",
    ")\n",
    "plt.legend()\n",
    "\n",
    "plt.savefig('IQR_cumu/'+title+'.pdf')"
   ]
  },
  {
   "cell_type": "code",
   "execution_count": null,
   "metadata": {},
   "outputs": [],
   "source": [
    "coeff = (S10['total_pop']*np.log(S10['total_pop'])*S5['area']*S5['F(S)']**2)/(S5['total_pop']*np.log(S5['total_pop'])*S10['area']*S10['F(S)']**2)"
   ]
  },
  {
   "cell_type": "code",
   "execution_count": null,
   "metadata": {
    "scrolled": true
   },
   "outputs": [],
   "source": [
    "# With current testing and social distancing throughout\n",
    "numNodes = S10['total_pop']\n",
    "G_normal, G_relaxed, G_Quarantine = gen_graphs(numNodes, coeff*np.log(S5['total_pop']))\n",
    "\n",
    "final = []\n",
    "initI = int(I*coeff)\n",
    "theta_E = Et[0]\n",
    "theta_I = It[0]\n",
    "mf = 1\n",
    "checkpoints  =  {'t': [15,25,50],\n",
    "                   'theta_E': Et[1:],\n",
    "                   'theta_I': It[1:],\n",
    "                 'G': [G_relaxed,G_Quarantine,G_Quarantine]\n",
    "                      }\n",
    "\n",
    "temp = monte(numNodes,initI=initI,theta_E = theta_E, theta_I = theta_I ,mf=mf, checkpoints=checkpoints, G = G_normal, sim=sim);\n",
    "with open('data/region1_S10c.p', 'wb') as fp:\n",
    "    pickle.dump(temp, fp)\n"
   ]
  },
  {
   "cell_type": "code",
   "execution_count": null,
   "metadata": {},
   "outputs": [],
   "source": [
    "title = 'Region 1 - 10000 Population Cumulative Cases'\n",
    "\n",
    "plt.title(title)\n",
    "\n",
    "dfa_DI = temp[1]\n",
    "cumu = get_three_tuple(dfa_DI)\n",
    "\n",
    "plt.xlabel('Dates')\n",
    "plt.xticks(rotation=45)\n",
    "plt.ylabel('Percent Population')\n",
    "plt.plot(dfa_DI.index, cumu[:,1], label='Total Detected Cases')\n",
    "plt.fill_between(\n",
    "    dfa_DI.index,\n",
    "    cumu[:,0],\n",
    "    cumu[:,2],\n",
    "     color='b', alpha=.1, label='IQR'\n",
    "    )\n",
    "plt.plot(\n",
    "    list(dfa_DI.index)[:len(S10['timeseries'][15:])],\n",
    "    [float(j[1])*100/numNodes for j in S10['timeseries'][15:]],\n",
    "    'r', label='Total Detected Cases (Ground Truth)'\n",
    ")\n",
    "plt.legend()\n",
    "\n",
    "plt.savefig('IQR_cumu/'+title+'.pdf')"
   ]
  },
  {
   "cell_type": "code",
   "execution_count": null,
   "metadata": {},
   "outputs": [],
   "source": [
    "coeff = (S20['total_pop']*np.log(S20['total_pop'])*S5['area']*S5['F(S)']**2)/(S5['total_pop']*np.log(S5['total_pop'])*S20['area']*S20['F(S)']**2)"
   ]
  },
  {
   "cell_type": "code",
   "execution_count": null,
   "metadata": {
    "scrolled": true
   },
   "outputs": [],
   "source": [
    "# With current testing and social distancing throughout\n",
    "numNodes = S20['total_pop']\n",
    "G_normal, G_relaxed, G_Quarantine = gen_graphs(numNodes, coeff*np.log(S5['total_pop']))\n",
    "\n",
    "\n",
    "final = []\n",
    "initI = int(I*coeff)\n",
    "theta_E = Et[0]\n",
    "theta_I = It[0]\n",
    "mf = 1\n",
    "checkpoints  =  {'t': [15,25,50],\n",
    "                   'theta_E': Et[1:],\n",
    "                   'theta_I': It[1:],\n",
    "                 'G': [G_relaxed,G_Quarantine,G_Quarantine]\n",
    "                      }\n",
    "\n",
    "temp = monte(numNodes,initI=initI,theta_E = theta_E, theta_I = theta_I ,mf=mf, checkpoints=checkpoints, G = G_normal, sim=sim);\n",
    "with open('data/region1_S20c.p', 'wb') as fp:\n",
    "    pickle.dump(temp, fp)\n"
   ]
  },
  {
   "cell_type": "code",
   "execution_count": null,
   "metadata": {},
   "outputs": [],
   "source": [
    "title = 'Region 1 - 20000 Population Cumulative Cases'\n",
    "\n",
    "plt.title(title)\n",
    "\n",
    "dfa_DI = temp[1]\n",
    "cumu = get_three_tuple(dfa_DI)\n",
    "\n",
    "plt.xlabel('Dates')\n",
    "plt.xticks(rotation=45)\n",
    "plt.ylabel('Percent Population')\n",
    "plt.plot(dfa_DI.index, cumu[:,1], label='Total Detected Cases')\n",
    "plt.fill_between(\n",
    "    dfa_DI.index,\n",
    "    cumu[:,0],\n",
    "    cumu[:,2],\n",
    "     color='b', alpha=.1, label='IQR'\n",
    "    )\n",
    "plt.plot(\n",
    "    list(dfa_DI.index)[:len(S10['timeseries'][15:])],\n",
    "    [float(j[1])*100/numNodes for j in S20['timeseries'][15:]],\n",
    "    'r', label='Total Detected Cases (Ground Truth)'\n",
    ")\n",
    "plt.legend()\n",
    "\n",
    "plt.savefig('IQR_cumu/'+title+'.pdf')"
   ]
  },
  {
   "cell_type": "code",
   "execution_count": null,
   "metadata": {},
   "outputs": [],
   "source": []
  },
  {
   "cell_type": "code",
   "execution_count": 18,
   "metadata": {},
   "outputs": [],
   "source": [
    "with open('region_sim2.p','rb') as fp:\n",
    "    S5,S10,S20 = pickle.load(fp)"
   ]
  },
  {
   "cell_type": "code",
   "execution_count": 19,
   "metadata": {},
   "outputs": [],
   "source": [
    "I = 5\n",
    "Et = [0.000, 0.0000,0.0002,0.0002]\n",
    "It = [0.0001, 0.001, 0.001, 0.004]\n",
    "sim = 1000"
   ]
  },
  {
   "cell_type": "code",
   "execution_count": 20,
   "metadata": {
    "scrolled": true
   },
   "outputs": [],
   "source": [
    "# With current testing and social distancing throughout\n",
    "numNodes = S5['total_pop']\n",
    "G_normal, G_relaxed, G_Quarantine = gen_graphs(numNodes, np.log(S5['total_pop']))\n",
    "\n",
    "final = []\n",
    "initI = I\n",
    "theta_E = Et[0]\n",
    "theta_I = It[0]\n",
    "mf = 1\n",
    "checkpoints  =  {'t': [15,25,50],\n",
    "                   'theta_E': Et[1:],\n",
    "                   'theta_I': It[1:],\n",
    "                 'G': [G_relaxed,G_Quarantine,G_Quarantine]\n",
    "                      }\n",
    "\n",
    "temp = monte(numNodes,initI=initI,theta_E = theta_E, theta_I = theta_I ,mf=mf, checkpoints=checkpoints, G = G_normal, sim=sim);\n",
    "with open('data/region2_S5c.p', 'wb') as fp:\n",
    "    pickle.dump(temp, fp)\n"
   ]
  },
  {
   "cell_type": "code",
   "execution_count": 21,
   "metadata": {},
   "outputs": [
    {
     "data": {
      "image/png": "[encoded data removed]",
      "text/plain": [
       "<Figure size 1080x576 with 1 Axes>"
      ]
     },
     "metadata": {
      "needs_background": "light"
     },
     "output_type": "display_data"
    }
   ],
   "source": [
    "title = 'Region 2 - 5000 Population Cumulative Cases'\n",
    "\n",
    "plt.title(title)\n",
    "\n",
    "dfa_DI = temp[1]\n",
    "cumu = get_three_tuple(dfa_DI)\n",
    "\n",
    "plt.xlabel('Dates')\n",
    "plt.xticks(rotation=45)\n",
    "plt.ylabel('Percent Population')\n",
    "plt.plot(dfa_DI.index, cumu[:,1], label='Total Detected Cases')\n",
    "plt.fill_between(\n",
    "    dfa_DI.index,\n",
    "    cumu[:,0],\n",
    "    cumu[:,2],\n",
    "     color='b', alpha=.1, label='IQR'\n",
    "    )\n",
    "plt.plot(\n",
    "    list(dfa_DI.index)[:len(S10['timeseries'][15:])],\n",
    "    [float(j[1])*100/numNodes for j in S5['timeseries'][15:]],\n",
    "    'r', label='Total Detected Cases (Ground Truth)'\n",
    ")\n",
    "plt.legend()\n",
    "\n",
    "plt.savefig('IQR_cumu/'+title+'.pdf')"
   ]
  },
  {
   "cell_type": "code",
   "execution_count": 22,
   "metadata": {},
   "outputs": [],
   "source": [
    "coeff = (S10['total_pop']*np.log(S10['total_pop'])*S5['area']*S5['F(S)']**2)/(S5['total_pop']*np.log(S5['total_pop'])*S10['area']*S10['F(S)']**2)"
   ]
  },
  {
   "cell_type": "code",
   "execution_count": 23,
   "metadata": {
    "scrolled": true
   },
   "outputs": [],
   "source": [
    "# With current testing and social distancing throughout\n",
    "numNodes = S10['total_pop']\n",
    "G_normal, G_relaxed, G_Quarantine = gen_graphs(numNodes, coeff*np.log(S5['total_pop']))\n",
    "\n",
    "final = []\n",
    "initI = int(I*coeff)\n",
    "theta_E = Et[0]\n",
    "theta_I = It[0]\n",
    "mf = 1\n",
    "checkpoints  =  {'t': [15,25,50],\n",
    "                   'theta_E': Et[1:],\n",
    "                   'theta_I': It[1:],\n",
    "                 'G': [G_relaxed,G_Quarantine,G_Quarantine]\n",
    "                      }\n",
    "\n",
    "temp = monte(numNodes,initI=initI,theta_E = theta_E, theta_I = theta_I ,mf=mf, checkpoints=checkpoints, G = G_normal, sim=sim);\n",
    "with open('data/region2_S10c.p', 'wb') as fp:\n",
    "    pickle.dump(temp, fp)\n"
   ]
  },
  {
   "cell_type": "code",
   "execution_count": 24,
   "metadata": {},
   "outputs": [
    {
     "data": {
      "image/png": "[encoded data removed]",
      "text/plain": [
       "<Figure size 1080x576 with 1 Axes>"
      ]
     },
     "metadata": {
      "needs_background": "light"
     },
     "output_type": "display_data"
    }
   ],
   "source": [
    "title = 'Region 2 - 10000 Population Cumulative Cases'\n",
    "\n",
    "plt.title(title)\n",
    "\n",
    "dfa_DI = temp[1]\n",
    "cumu = get_three_tuple(dfa_DI)\n",
    "\n",
    "plt.xlabel('Dates')\n",
    "plt.xticks(rotation=45)\n",
    "plt.ylabel('Percent Population')\n",
    "plt.plot(dfa_DI.index, cumu[:,1], label='Total Detected Cases')\n",
    "plt.fill_between(\n",
    "    dfa_DI.index,\n",
    "    cumu[:,0],\n",
    "    cumu[:,2],\n",
    "     color='b', alpha=.1, label='IQR'\n",
    "    )\n",
    "plt.plot(\n",
    "    list(dfa_DI.index)[:len(S10['timeseries'][15:])],\n",
    "    [float(j[1])*100/numNodes for j in S10['timeseries'][15:]],\n",
    "    'r', label='Total Detected Cases (Ground Truth)'\n",
    ")\n",
    "plt.legend()\n",
    "\n",
    "plt.savefig('IQR_cumu/'+title+'.pdf')"
   ]
  },
  {
   "cell_type": "code",
   "execution_count": 25,
   "metadata": {},
   "outputs": [],
   "source": [
    "coeff = (S20['total_pop']*np.log(S20['total_pop'])*S5['area']*S5['F(S)']**2)/(S5['total_pop']*np.log(S5['total_pop'])*S20['area']*S20['F(S)']**2)"
   ]
  },
  {
   "cell_type": "code",
   "execution_count": 30,
   "metadata": {
    "scrolled": true
   },
   "outputs": [],
   "source": [
    "# With current testing and social distancing throughout\n",
    "numNodes = S20['total_pop']\n",
    "G_normal, G_relaxed, G_Quarantine = gen_graphs(numNodes, coeff*np.log(S5['total_pop']))\n",
    "\n",
    "\n",
    "final = []\n",
    "initI = int(I*coeff)\n",
    "theta_E = Et[0]\n",
    "theta_I = It[0]\n",
    "mf = 1\n",
    "checkpoints  =  {'t': [15,25,50],\n",
    "                   'theta_E': Et[1:],\n",
    "                   'theta_I': It[1:],\n",
    "                 'G': [G_relaxed,G_Quarantine,G_Quarantine]\n",
    "                      }\n",
    "\n",
    "temp = monte(numNodes,initI=initI,theta_E = theta_E, theta_I = theta_I ,mf=mf, checkpoints=checkpoints, G = G_normal, sim=sim, initDI = S20['timeseries'][15][1]-1);\n",
    "with open('data/region2_S20c.p', 'wb') as fp:\n",
    "    pickle.dump(temp, fp)\n"
   ]
  },
  {
   "cell_type": "code",
   "execution_count": 31,
   "metadata": {},
   "outputs": [
    {
     "data": {
      "image/png": "[encoded data removed]",
      "text/plain": [
       "<Figure size 1080x576 with 1 Axes>"
      ]
     },
     "metadata": {
      "needs_background": "light"
     },
     "output_type": "display_data"
    }
   ],
   "source": [
    "title = 'Region 2 - 20000 Population Cumulative Cases'\n",
    "\n",
    "plt.title(title)\n",
    "\n",
    "dfa_DI = temp[1]\n",
    "cumu = get_three_tuple(dfa_DI)\n",
    "\n",
    "plt.xlabel('Dates')\n",
    "plt.xticks(rotation=45)\n",
    "plt.ylabel('Percent Population')\n",
    "plt.plot(dfa_DI.index, cumu[:,1], label='Total Detected Cases')\n",
    "plt.fill_between(\n",
    "    dfa_DI.index,\n",
    "    cumu[:,0],\n",
    "    cumu[:,2],\n",
    "     color='b', alpha=.1, label='IQR'\n",
    "    )\n",
    "plt.plot(\n",
    "    list(dfa_DI.index)[:len(S10['timeseries'][15:])],\n",
    "    [float(j[1]-1)*100/numNodes for j in S20['timeseries'][15:]],\n",
    "    'r', label='Total Detected Cases (Ground Truth)'\n",
    ")\n",
    "plt.legend()\n",
    "\n",
    "plt.savefig('IQR_cumu/'+title+'.pdf')"
   ]
  },
  {
   "cell_type": "code",
   "execution_count": null,
   "metadata": {},
   "outputs": [],
   "source": []
  },
  {
   "cell_type": "code",
   "execution_count": 25,
   "metadata": {},
   "outputs": [],
   "source": [
    "with open('region_sim3.p','rb') as fp:\n",
    "    S5,S10,S20 = pickle.load(fp)"
   ]
  },
  {
   "cell_type": "code",
   "execution_count": 26,
   "metadata": {},
   "outputs": [],
   "source": [
    "I = 4\n",
    "Et = [0.000, 0.0000,0.0002,0.0002]\n",
    "It = [0.0001, 0.0007, 0.001, 0.004]\n",
    "sim = 1000"
   ]
  },
  {
   "cell_type": "code",
   "execution_count": 27,
   "metadata": {
    "scrolled": true
   },
   "outputs": [],
   "source": [
    "# With current testing and social distancing throughout\n",
    "numNodes = S5['total_pop']\n",
    "G_normal, G_relaxed, G_Quarantine = gen_graphs(numNodes, np.log(S5['total_pop']))\n",
    "\n",
    "final = []\n",
    "initI = I\n",
    "theta_E = Et[0]\n",
    "theta_I = It[0]\n",
    "mf = 1\n",
    "checkpoints  =  {'t': [15,25,50],\n",
    "                   'theta_E': Et[1:],\n",
    "                   'theta_I': It[1:],\n",
    "                 'G': [G_relaxed,G_Quarantine,G_Quarantine]\n",
    "                      }\n",
    "\n",
    "temp = monte(numNodes,initI=initI,theta_E = theta_E, theta_I = theta_I ,mf=mf, checkpoints=checkpoints, G = G_normal, sim=sim);\n",
    "with open('data/region3_S5c.p', 'wb') as fp:\n",
    "    pickle.dump(temp, fp)\n"
   ]
  },
  {
   "cell_type": "code",
   "execution_count": 28,
   "metadata": {},
   "outputs": [
    {
     "data": {
      "image/png": "[encoded data removed]",
      "text/plain": [
       "<Figure size 1080x576 with 1 Axes>"
      ]
     },
     "metadata": {
      "needs_background": "light"
     },
     "output_type": "display_data"
    }
   ],
   "source": [
    "title = 'Region 3 - 5000 Population Cumulative Cases'\n",
    "\n",
    "plt.title(title)\n",
    "\n",
    "dfa_DI = temp[1]\n",
    "cumu = get_three_tuple(dfa_DI)\n",
    "\n",
    "plt.xlabel('Dates')\n",
    "plt.xticks(rotation=45)\n",
    "plt.ylabel('Percent Population')\n",
    "plt.plot(dfa_DI.index, cumu[:,1], label='Total Detected Cases')\n",
    "plt.fill_between(\n",
    "    dfa_DI.index,\n",
    "    cumu[:,0],\n",
    "    cumu[:,2],\n",
    "     color='b', alpha=.1, label='IQR'\n",
    "    )\n",
    "plt.plot(\n",
    "    list(dfa_DI.index)[:len(S10['timeseries'][15:])],\n",
    "    [float(j[1])*100/numNodes for j in S5['timeseries'][15:]],\n",
    "    'r', label='Total Detected Cases (Ground Truth)'\n",
    ")\n",
    "plt.legend()\n",
    "\n",
    "plt.savefig('IQR_cumu/'+title+'.pdf')"
   ]
  },
  {
   "cell_type": "code",
   "execution_count": 29,
   "metadata": {},
   "outputs": [],
   "source": [
    "coeff = (S10['total_pop']*np.log(S10['total_pop'])*S5['area']*S5['F(S)']**2)/(S5['total_pop']*np.log(S5['total_pop'])*S10['area']*S10['F(S)']**2)"
   ]
  },
  {
   "cell_type": "code",
   "execution_count": 30,
   "metadata": {
    "scrolled": true
   },
   "outputs": [],
   "source": [
    "# With current testing and social distancing throughout\n",
    "numNodes = S10['total_pop']\n",
    "G_normal, G_relaxed, G_Quarantine = gen_graphs(numNodes, coeff*np.log(S5['total_pop']))\n",
    "\n",
    "final = []\n",
    "initI = int(I*coeff)\n",
    "theta_E = Et[0]\n",
    "theta_I = It[0]\n",
    "mf = 1\n",
    "checkpoints  =  {'t': [15,25,50],\n",
    "                   'theta_E': Et[1:],\n",
    "                   'theta_I': It[1:],\n",
    "                 'G': [G_relaxed,G_Quarantine,G_Quarantine]\n",
    "                      }\n",
    "\n",
    "temp = monte(numNodes,initI=initI,theta_E = theta_E, theta_I = theta_I ,mf=mf, checkpoints=checkpoints, G = G_normal, sim=sim);\n",
    "with open('data/region3_S10c.p', 'wb') as fp:\n",
    "    pickle.dump(temp, fp)\n"
   ]
  },
  {
   "cell_type": "code",
   "execution_count": 31,
   "metadata": {},
   "outputs": [
    {
     "data": {
      "image/png": "[encoded data removed]",
      "text/plain": [
       "<Figure size 1080x576 with 1 Axes>"
      ]
     },
     "metadata": {
      "needs_background": "light"
     },
     "output_type": "display_data"
    }
   ],
   "source": [
    "title = 'Region 3 - 10000 Population Cumulative Cases'\n",
    "\n",
    "plt.title(title)\n",
    "\n",
    "dfa_DI = temp[1]\n",
    "cumu = get_three_tuple(dfa_DI)\n",
    "\n",
    "plt.xlabel('Dates')\n",
    "plt.xticks(rotation=45)\n",
    "plt.ylabel('Percent Population')\n",
    "plt.plot(dfa_DI.index, cumu[:,1], label='Total Detected Cases')\n",
    "plt.fill_between(\n",
    "    dfa_DI.index,\n",
    "    cumu[:,0],\n",
    "    cumu[:,2],\n",
    "     color='b', alpha=.1, label='IQR'\n",
    "    )\n",
    "plt.plot(\n",
    "    list(dfa_DI.index)[:len(S10['timeseries'][15:])],\n",
    "    [float(j[1])*100/numNodes for j in S10['timeseries'][15:]],\n",
    "    'r', label='Total Detected Cases (Ground Truth)'\n",
    ")\n",
    "plt.legend()\n",
    "\n",
    "plt.savefig('IQR_cumu/'+title+'.pdf')"
   ]
  },
  {
   "cell_type": "code",
   "execution_count": 28,
   "metadata": {},
   "outputs": [],
   "source": [
    "coeff = (S20['total_pop']*np.log(S20['total_pop'])*S5['area']*S5['F(S)']**2)/(S5['total_pop']*np.log(S5['total_pop'])*S20['area']*S20['F(S)']**2)"
   ]
  },
  {
   "cell_type": "code",
   "execution_count": 29,
   "metadata": {
    "scrolled": true
   },
   "outputs": [
    {
     "ename": "KeyboardInterrupt",
     "evalue": "",
     "output_type": "error",
     "traceback": [
      "\u001b[0;31m---------------------------------------------------------------------------\u001b[0m",
      "\u001b[0;31mKeyboardInterrupt\u001b[0m                         Traceback (most recent call last)",
      "\u001b[0;32m<ipython-input-29-bab704613f49>\u001b[0m in \u001b[0;36m<module>\u001b[0;34m\u001b[0m\n\u001b[1;32m      1\u001b[0m \u001b[0;31m# With current testing and social distancing throughout\u001b[0m\u001b[0;34m\u001b[0m\u001b[0;34m\u001b[0m\u001b[0;34m\u001b[0m\u001b[0m\n\u001b[1;32m      2\u001b[0m \u001b[0mnumNodes\u001b[0m \u001b[0;34m=\u001b[0m \u001b[0mS20\u001b[0m\u001b[0;34m[\u001b[0m\u001b[0;34m'total_pop'\u001b[0m\u001b[0;34m]\u001b[0m\u001b[0;34m\u001b[0m\u001b[0;34m\u001b[0m\u001b[0m\n\u001b[0;32m----> 3\u001b[0;31m \u001b[0mG_normal\u001b[0m\u001b[0;34m,\u001b[0m \u001b[0mG_relaxed\u001b[0m\u001b[0;34m,\u001b[0m \u001b[0mG_Quarantine\u001b[0m \u001b[0;34m=\u001b[0m \u001b[0mgen_graphs\u001b[0m\u001b[0;34m(\u001b[0m\u001b[0mnumNodes\u001b[0m\u001b[0;34m,\u001b[0m \u001b[0mcoeff\u001b[0m\u001b[0;34m*\u001b[0m\u001b[0mnp\u001b[0m\u001b[0;34m.\u001b[0m\u001b[0mlog\u001b[0m\u001b[0;34m(\u001b[0m\u001b[0mS5\u001b[0m\u001b[0;34m[\u001b[0m\u001b[0;34m'total_pop'\u001b[0m\u001b[0;34m]\u001b[0m\u001b[0;34m)\u001b[0m\u001b[0;34m)\u001b[0m\u001b[0;34m\u001b[0m\u001b[0;34m\u001b[0m\u001b[0m\n\u001b[0m\u001b[1;32m      4\u001b[0m \u001b[0;34m\u001b[0m\u001b[0m\n\u001b[1;32m      5\u001b[0m \u001b[0;34m\u001b[0m\u001b[0m\n",
      "\u001b[0;32m<ipython-input-3-18423b33c4bb>\u001b[0m in \u001b[0;36mgen_graphs\u001b[0;34m(numNodes, coeff)\u001b[0m\n\u001b[1;32m      1\u001b[0m \u001b[0;32mdef\u001b[0m \u001b[0mgen_graphs\u001b[0m\u001b[0;34m(\u001b[0m\u001b[0mnumNodes\u001b[0m\u001b[0;34m,\u001b[0m \u001b[0mcoeff\u001b[0m\u001b[0;34m)\u001b[0m\u001b[0;34m:\u001b[0m\u001b[0;34m\u001b[0m\u001b[0;34m\u001b[0m\u001b[0m\n\u001b[0;32m----> 2\u001b[0;31m     \u001b[0mG_normal\u001b[0m \u001b[0;34m=\u001b[0m \u001b[0mnx\u001b[0m\u001b[0;34m.\u001b[0m\u001b[0merdos_renyi_graph\u001b[0m\u001b[0;34m(\u001b[0m\u001b[0mn\u001b[0m\u001b[0;34m=\u001b[0m\u001b[0mnumNodes\u001b[0m\u001b[0;34m,\u001b[0m \u001b[0mp\u001b[0m \u001b[0;34m=\u001b[0m \u001b[0mcoeff\u001b[0m\u001b[0;34m*\u001b[0m\u001b[0;36m1.1\u001b[0m\u001b[0;34m/\u001b[0m\u001b[0mnumNodes\u001b[0m\u001b[0;34m,\u001b[0m \u001b[0mseed\u001b[0m\u001b[0;34m=\u001b[0m\u001b[0;36m42\u001b[0m\u001b[0;34m,\u001b[0m \u001b[0mdirected\u001b[0m\u001b[0;34m=\u001b[0m\u001b[0;32mFalse\u001b[0m\u001b[0;34m)\u001b[0m\u001b[0;34m\u001b[0m\u001b[0;34m\u001b[0m\u001b[0m\n\u001b[0m\u001b[1;32m      3\u001b[0m     \u001b[0mG_relaxed\u001b[0m \u001b[0;34m=\u001b[0m \u001b[0mnx\u001b[0m\u001b[0;34m.\u001b[0m\u001b[0merdos_renyi_graph\u001b[0m\u001b[0;34m(\u001b[0m\u001b[0mn\u001b[0m\u001b[0;34m=\u001b[0m\u001b[0mnumNodes\u001b[0m\u001b[0;34m,\u001b[0m \u001b[0mp\u001b[0m \u001b[0;34m=\u001b[0m \u001b[0mcoeff\u001b[0m\u001b[0;34m*\u001b[0m\u001b[0;36m0.301\u001b[0m\u001b[0;34m/\u001b[0m\u001b[0mnumNodes\u001b[0m \u001b[0;34m,\u001b[0m \u001b[0mseed\u001b[0m\u001b[0;34m=\u001b[0m\u001b[0;36m42\u001b[0m\u001b[0;34m,\u001b[0m \u001b[0mdirected\u001b[0m\u001b[0;34m=\u001b[0m\u001b[0;32mFalse\u001b[0m\u001b[0;34m)\u001b[0m\u001b[0;34m\u001b[0m\u001b[0;34m\u001b[0m\u001b[0m\n\u001b[1;32m      4\u001b[0m     \u001b[0mG_Quarantine\u001b[0m \u001b[0;34m=\u001b[0m \u001b[0mnx\u001b[0m\u001b[0;34m.\u001b[0m\u001b[0merdos_renyi_graph\u001b[0m\u001b[0;34m(\u001b[0m\u001b[0mn\u001b[0m\u001b[0;34m=\u001b[0m\u001b[0mnumNodes\u001b[0m\u001b[0;34m,\u001b[0m \u001b[0mp\u001b[0m \u001b[0;34m=\u001b[0m \u001b[0mcoeff\u001b[0m\u001b[0;34m*\u001b[0m\u001b[0;36m0.006\u001b[0m\u001b[0;34m/\u001b[0m\u001b[0mnumNodes\u001b[0m \u001b[0;34m,\u001b[0m \u001b[0mseed\u001b[0m\u001b[0;34m=\u001b[0m\u001b[0;36m42\u001b[0m\u001b[0;34m,\u001b[0m \u001b[0mdirected\u001b[0m\u001b[0;34m=\u001b[0m\u001b[0;32mFalse\u001b[0m\u001b[0;34m)\u001b[0m\u001b[0;34m\u001b[0m\u001b[0;34m\u001b[0m\u001b[0m\n\u001b[1;32m      5\u001b[0m \u001b[0;34m\u001b[0m\u001b[0m\n",
      "\u001b[0;32m<decorator-gen-697>\u001b[0m in \u001b[0;36mgnp_random_graph\u001b[0;34m(n, p, seed, directed)\u001b[0m\n",
      "\u001b[0;32m~/Networks/networks/lib/python3.6/site-packages/networkx/utils/decorators.py\u001b[0m in \u001b[0;36m_random_state\u001b[0;34m(func, *args, **kwargs)\u001b[0m\n\u001b[1;32m    462\u001b[0m         \u001b[0mnew_args\u001b[0m \u001b[0;34m=\u001b[0m \u001b[0mlist\u001b[0m\u001b[0;34m(\u001b[0m\u001b[0margs\u001b[0m\u001b[0;34m)\u001b[0m\u001b[0;34m\u001b[0m\u001b[0;34m\u001b[0m\u001b[0m\n\u001b[1;32m    463\u001b[0m         \u001b[0mnew_args\u001b[0m\u001b[0;34m[\u001b[0m\u001b[0mrandom_state_index\u001b[0m\u001b[0;34m]\u001b[0m \u001b[0;34m=\u001b[0m \u001b[0mrandom_state\u001b[0m\u001b[0;34m\u001b[0m\u001b[0;34m\u001b[0m\u001b[0m\n\u001b[0;32m--> 464\u001b[0;31m         \u001b[0;32mreturn\u001b[0m \u001b[0mfunc\u001b[0m\u001b[0;34m(\u001b[0m\u001b[0;34m*\u001b[0m\u001b[0mnew_args\u001b[0m\u001b[0;34m,\u001b[0m \u001b[0;34m**\u001b[0m\u001b[0mkwargs\u001b[0m\u001b[0;34m)\u001b[0m\u001b[0;34m\u001b[0m\u001b[0;34m\u001b[0m\u001b[0m\n\u001b[0m\u001b[1;32m    465\u001b[0m     \u001b[0;32mreturn\u001b[0m \u001b[0m_random_state\u001b[0m\u001b[0;34m\u001b[0m\u001b[0;34m\u001b[0m\u001b[0m\n",
      "\u001b[0;32m~/Networks/networks/lib/python3.6/site-packages/networkx/generators/random_graphs.py\u001b[0m in \u001b[0;36mgnp_random_graph\u001b[0;34m(n, p, seed, directed)\u001b[0m\n\u001b[1;32m    170\u001b[0m \u001b[0;34m\u001b[0m\u001b[0m\n\u001b[1;32m    171\u001b[0m     \u001b[0;32mfor\u001b[0m \u001b[0me\u001b[0m \u001b[0;32min\u001b[0m \u001b[0medges\u001b[0m\u001b[0;34m:\u001b[0m\u001b[0;34m\u001b[0m\u001b[0;34m\u001b[0m\u001b[0m\n\u001b[0;32m--> 172\u001b[0;31m         \u001b[0;32mif\u001b[0m \u001b[0mseed\u001b[0m\u001b[0;34m.\u001b[0m\u001b[0mrandom\u001b[0m\u001b[0;34m(\u001b[0m\u001b[0;34m)\u001b[0m \u001b[0;34m<\u001b[0m \u001b[0mp\u001b[0m\u001b[0;34m:\u001b[0m\u001b[0;34m\u001b[0m\u001b[0;34m\u001b[0m\u001b[0m\n\u001b[0m\u001b[1;32m    173\u001b[0m             \u001b[0mG\u001b[0m\u001b[0;34m.\u001b[0m\u001b[0madd_edge\u001b[0m\u001b[0;34m(\u001b[0m\u001b[0;34m*\u001b[0m\u001b[0me\u001b[0m\u001b[0;34m)\u001b[0m\u001b[0;34m\u001b[0m\u001b[0;34m\u001b[0m\u001b[0m\n\u001b[1;32m    174\u001b[0m     \u001b[0;32mreturn\u001b[0m \u001b[0mG\u001b[0m\u001b[0;34m\u001b[0m\u001b[0;34m\u001b[0m\u001b[0m\n",
      "\u001b[0;31mKeyboardInterrupt\u001b[0m: "
     ]
    }
   ],
   "source": [
    "# With current testing and social distancing throughout\n",
    "numNodes = S20['total_pop']\n",
    "G_normal, G_relaxed, G_Quarantine = gen_graphs(numNodes, coeff*np.log(S5['total_pop']))\n",
    "\n",
    "\n",
    "final = []\n",
    "initI = int(I*coeff)\n",
    "theta_E = Et[0]\n",
    "theta_I = It[0]\n",
    "mf = 1\n",
    "checkpoints  =  {'t': [15,25,50],\n",
    "                   'theta_E': Et[1:],\n",
    "                   'theta_I': It[1:],\n",
    "                 'G': [G_relaxed,G_Quarantine,G_Quarantine]\n",
    "                      }\n",
    "\n",
    "temp = monte(numNodes,initI=initI,theta_E = theta_E, theta_I = theta_I ,mf=mf, checkpoints=checkpoints, G = G_normal, sim=sim);\n",
    "with open('data/region3_S20c.p', 'wb') as fp:\n",
    "    pickle.dump(temp, fp)\n"
   ]
  },
  {
   "cell_type": "code",
   "execution_count": null,
   "metadata": {},
   "outputs": [],
   "source": [
    "title = 'Region 3 - 20000 Population Cumulative Cases'\n",
    "\n",
    "plt.title(title)\n",
    "\n",
    "dfa_DI = temp[1]\n",
    "cumu = get_three_tuple(dfa_DI)\n",
    "\n",
    "plt.xlabel('Dates')\n",
    "plt.xticks(rotation=45)\n",
    "plt.ylabel('Percent Population')\n",
    "plt.plot(dfa_DI.index, cumu[:,1], label='Total Detected Cases')\n",
    "plt.fill_between(\n",
    "    dfa_DI.index,\n",
    "    cumu[:,0],\n",
    "    cumu[:,2],\n",
    "     color='b', alpha=.1, label='IQR'\n",
    "    )\n",
    "plt.plot(\n",
    "    list(dfa_DI.index)[:len(S10['timeseries'][15:])],\n",
    "    [float(j[1])*100/numNodes for j in S20['timeseries'][15:]],\n",
    "    'r', label='Total Detected Cases (Ground Truth)'\n",
    ")\n",
    "plt.legend()\n",
    "\n",
    "plt.savefig('IQR_cumu/'+title+'.pdf')"
   ]
  },
  {
   "cell_type": "code",
   "execution_count": null,
   "metadata": {},
   "outputs": [],
   "source": []
  },
  {
   "cell_type": "code",
   "execution_count": null,
   "metadata": {},
   "outputs": [],
   "source": [
    "with open('region_sim4.p','rb') as fp:\n",
    "    S5,S10,S20 = pickle.load(fp)"
   ]
  },
  {
   "cell_type": "code",
   "execution_count": null,
   "metadata": {},
   "outputs": [],
   "source": [
    "I = 3\n",
    "Et = [0.000, 0.0000,0.0002,0.0002]\n",
    "It = [0.0001, 0.0015, 0.0017, 0.004]\n",
    "sim = 1000"
   ]
  },
  {
   "cell_type": "code",
   "execution_count": null,
   "metadata": {
    "scrolled": true
   },
   "outputs": [],
   "source": [
    "# With current testing and social distancing throughout\n",
    "numNodes = S5['total_pop']\n",
    "G_normal, G_relaxed, G_Quarantine = gen_graphs(numNodes, np.log(S5['total_pop']))\n",
    "\n",
    "final = []\n",
    "initI = I\n",
    "theta_E = Et[0]\n",
    "theta_I = It[0]\n",
    "mf = 1\n",
    "checkpoints  =  {'t': [15,25,50],\n",
    "                   'theta_E': Et[1:],\n",
    "                   'theta_I': It[1:],\n",
    "                 'G': [G_relaxed,G_Quarantine,G_Quarantine]\n",
    "                      }\n",
    "\n",
    "temp = monte(numNodes,initI=initI,theta_E = theta_E, theta_I = theta_I ,mf=mf, checkpoints=checkpoints, G = G_normal, sim=sim);\n",
    "with open('data/region4_S5c.p', 'wb') as fp:\n",
    "    pickle.dump(temp, fp)\n"
   ]
  },
  {
   "cell_type": "code",
   "execution_count": null,
   "metadata": {},
   "outputs": [],
   "source": [
    "title = 'Region 4 - 5000 Population Cumulative Cases'\n",
    "\n",
    "plt.title(title)\n",
    "\n",
    "dfa_DI = temp[1]\n",
    "cumu = get_three_tuple(dfa_DI)\n",
    "\n",
    "plt.xlabel('Dates')\n",
    "plt.xticks(rotation=45)\n",
    "plt.ylabel('Percent Population')\n",
    "plt.plot(dfa_DI.index, cumu[:,1], label='Total Detected Cases')\n",
    "plt.fill_between(\n",
    "    dfa_DI.index,\n",
    "    cumu[:,0],\n",
    "    cumu[:,2],\n",
    "     color='b', alpha=.1, label='IQR'\n",
    "    )\n",
    "plt.plot(\n",
    "    list(dfa_DI.index)[:len(S10['timeseries'][15:])],\n",
    "    [float(j[1])*100/numNodes for j in S5['timeseries'][15:]],\n",
    "    'r', label='Total Detected Cases (Ground Truth)'\n",
    ")\n",
    "plt.legend()\n",
    "\n",
    "plt.savefig('IQR_cumu/'+title+'.pdf')"
   ]
  },
  {
   "cell_type": "code",
   "execution_count": null,
   "metadata": {},
   "outputs": [],
   "source": [
    "coeff = (S10['total_pop']*np.log(S10['total_pop'])*S5['area']*S5['F(S)']**2)/(S5['total_pop']*np.log(S5['total_pop'])*S10['area']*S10['F(S)']**2)"
   ]
  },
  {
   "cell_type": "code",
   "execution_count": null,
   "metadata": {
    "scrolled": true
   },
   "outputs": [],
   "source": [
    "# With current testing and social distancing throughout\n",
    "numNodes = S10['total_pop']\n",
    "G_normal, G_relaxed, G_Quarantine = gen_graphs(numNodes, coeff*np.log(S5['total_pop']))\n",
    "\n",
    "final = []\n",
    "initI = int(I*coeff)\n",
    "theta_E = Et[0]\n",
    "theta_I = It[0]\n",
    "mf = 1\n",
    "checkpoints  =  {'t': [15,25,50],\n",
    "                   'theta_E': Et[1:],\n",
    "                   'theta_I': It[1:],\n",
    "                 'G': [G_relaxed,G_Quarantine,G_Quarantine]\n",
    "                      }\n",
    "\n",
    "temp = monte(numNodes,initI=initI,theta_E = theta_E, theta_I = theta_I ,mf=mf, checkpoints=checkpoints, G = G_normal, sim=sim);\n",
    "with open('data/region4_S10c.p', 'wb') as fp:\n",
    "    pickle.dump(temp, fp)\n"
   ]
  },
  {
   "cell_type": "code",
   "execution_count": null,
   "metadata": {},
   "outputs": [],
   "source": [
    "title = 'Region 4 - 10000 Population Cumulative Cases'\n",
    "\n",
    "plt.title(title)\n",
    "\n",
    "dfa_DI = temp[1]\n",
    "cumu = get_three_tuple(dfa_DI)\n",
    "\n",
    "plt.xlabel('Dates')\n",
    "plt.xticks(rotation=45)\n",
    "plt.ylabel('Percent Population')\n",
    "plt.plot(dfa_DI.index, cumu[:,1], label='Total Detected Cases')\n",
    "plt.fill_between(\n",
    "    dfa_DI.index,\n",
    "    cumu[:,0],\n",
    "    cumu[:,2],\n",
    "     color='b', alpha=.1, label='IQR'\n",
    "    )\n",
    "plt.plot(\n",
    "    list(dfa_DI.index)[:len(S10['timeseries'][15:])],\n",
    "    [float(j[1])*100/numNodes for j in S10['timeseries'][15:]],\n",
    "    'r', label='Total Detected Cases (Ground Truth)'\n",
    ")\n",
    "plt.legend()\n",
    "\n",
    "plt.savefig('IQR_cumu/'+title+'.pdf')"
   ]
  },
  {
   "cell_type": "code",
   "execution_count": null,
   "metadata": {},
   "outputs": [],
   "source": [
    "coeff = (S20['total_pop']*np.log(S20['total_pop'])*S5['area']*S5['F(S)']**2)/(S5['total_pop']*np.log(S5['total_pop'])*S20['area']*S20['F(S)']**2)"
   ]
  },
  {
   "cell_type": "code",
   "execution_count": null,
   "metadata": {
    "scrolled": true
   },
   "outputs": [],
   "source": [
    "# With current testing and social distancing throughout\n",
    "numNodes = S20['total_pop']\n",
    "G_normal, G_relaxed, G_Quarantine = gen_graphs(numNodes, coeff*np.log(S5['total_pop']))\n",
    "\n",
    "\n",
    "final = []\n",
    "initI = int(I*coeff)\n",
    "theta_E = Et[0]\n",
    "theta_I = It[0]\n",
    "mf = 1\n",
    "checkpoints  =  {'t': [15,25,50],\n",
    "                   'theta_E': Et[1:],\n",
    "                   'theta_I': It[1:],\n",
    "                 'G': [G_relaxed,G_Quarantine,G_Quarantine]\n",
    "                      }\n",
    "\n",
    "temp = monte(numNodes,initI=initI,theta_E = theta_E, theta_I = theta_I ,mf=mf, checkpoints=checkpoints, G = G_normal, sim=sim);\n",
    "with open('data/region4_S20c.p', 'wb') as fp:\n",
    "    pickle.dump(temp, fp)\n"
   ]
  },
  {
   "cell_type": "code",
   "execution_count": null,
   "metadata": {},
   "outputs": [],
   "source": [
    "title = 'Region 4 - 20000 Population Cumulative Cases'\n",
    "\n",
    "plt.title(title)\n",
    "\n",
    "dfa_DI = temp[1]\n",
    "cumu = get_three_tuple(dfa_DI)\n",
    "\n",
    "plt.xlabel('Dates')\n",
    "plt.xticks(rotation=45)\n",
    "plt.ylabel('Percent Population')\n",
    "plt.plot(dfa_DI.index, cumu[:,1], label='Total Detected Cases')\n",
    "plt.fill_between(\n",
    "    dfa_DI.index,\n",
    "    cumu[:,0],\n",
    "    cumu[:,2],\n",
    "     color='b', alpha=.1, label='IQR'\n",
    "    )\n",
    "plt.plot(\n",
    "    list(dfa_DI.index)[:len(S10['timeseries'][15:])],\n",
    "    [float(j[1])*100/numNodes for j in S20['timeseries'][15:]],\n",
    "    'r', label='Total Detected Cases (Ground Truth)'\n",
    ")\n",
    "plt.legend()\n",
    "\n",
    "plt.savefig('IQR_cumu/'+title+'.pdf')"
   ]
  },
  {
   "cell_type": "code",
   "execution_count": null,
   "metadata": {},
   "outputs": [],
   "source": []
  }
 ],
 "metadata": {
  "kernelspec": {
   "display_name": "Python 3",
   "language": "python",
   "name": "python3"
  },
  "language_info": {
   "codemirror_mode": {
    "name": "ipython",
    "version": 3
   },
   "file_extension": ".py",
   "mimetype": "text/x-python",
   "name": "python",
   "nbconvert_exporter": "python",
   "pygments_lexer": "ipython3",
   "version": "3.6.9"
  }
 },
 "nbformat": 4,
 "nbformat_minor": 4
}
